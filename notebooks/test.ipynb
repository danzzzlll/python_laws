{
 "cells": [
  {
   "cell_type": "code",
   "execution_count": 3,
   "metadata": {},
   "outputs": [],
   "source": [
    "import pandas as pd\n",
    "import numpy as np\n",
    "from tqdm import tqdm\n",
    "\n",
    "from llama_index.core import Document"
   ]
  },
  {
   "cell_type": "code",
   "execution_count": 7,
   "metadata": {},
   "outputs": [],
   "source": [
    "## config\n",
    "\n",
    "from pydantic import Field\n",
    "from pydantic_settings import BaseSettings\n",
    "import os\n",
    "from dotenv import load_dotenv\n",
    "\n",
    "\n",
    "class Settings(BaseSettings):\n",
    "    model_name: str = Field(\"gigachat\")\n",
    "    api_key: str = Field(...)\n",
    "    \n",
    "    top_k_bm: int = Field(20)\n",
    "    top_k_emb: int = Field(20)\n",
    "\n",
    "    class Config:\n",
    "        env_file = \".env\"\n",
    "\n",
    "\n",
    "settings = Settings()"
   ]
  },
  {
   "cell_type": "code",
   "execution_count": 5,
   "metadata": {},
   "outputs": [],
   "source": [
    "from langchain.chat_models.gigachat import GigaChat"
   ]
  },
  {
   "cell_type": "code",
   "execution_count": null,
   "metadata": {},
   "outputs": [],
   "source": [
    "model = GigaChat(\n",
    "    verify_ssl_certs=False, \n",
    "    credentials=\"api_key\",\n",
    "    model=\"GigaChat:latest\"\n",
    ")"
   ]
  },
  {
   "cell_type": "code",
   "execution_count": 7,
   "metadata": {},
   "outputs": [
    {
     "data": {
      "text/plain": [
       "AIMessage(content='Hello! How can I assist you today?', additional_kwargs={}, response_metadata={'token_usage': Usage(prompt_tokens=12, completion_tokens=10, total_tokens=22), 'model_name': 'GigaChat:1.0.26.20', 'finish_reason': 'stop'}, id='run-5bcf023a-6f0f-426c-814f-49ad4a4b7548-0')"
      ]
     },
     "execution_count": 7,
     "metadata": {},
     "output_type": "execute_result"
    }
   ],
   "source": [
    "model.invoke('hello')"
   ]
  },
  {
   "cell_type": "code",
   "execution_count": 1,
   "metadata": {},
   "outputs": [],
   "source": [
    "import sys\n",
    "sys.path.append(\"../\")"
   ]
  },
  {
   "cell_type": "code",
   "execution_count": 2,
   "metadata": {},
   "outputs": [],
   "source": [
    "from utils.llms.GigaModel import GigaApi"
   ]
  },
  {
   "cell_type": "code",
   "execution_count": 3,
   "metadata": {},
   "outputs": [
    {
     "name": "stderr",
     "output_type": "stream",
     "text": [
      "c:\\Мисис\\python_ml\\notebooks\\..\\utils\\llms\\GigaModel.py:26: LangChainDeprecationWarning: The class `GigaChat` was deprecated in LangChain 0.3.5 and will be removed in 1.0. An updated version of the class exists in the :class:`~langchain-gigachat package and should be used instead. To use it run `pip install -U :class:`~langchain-gigachat` and import as `from :class:`~langchain_gigachat import GigaChat``.\n",
      "  self.chat = GigaChat(model=\"GigaChat:latest\", credentials=self.credentials, verify_ssl_certs=False)\n"
     ]
    }
   ],
   "source": [
    "model = GigaApi()"
   ]
  },
  {
   "cell_type": "code",
   "execution_count": 4,
   "metadata": {},
   "outputs": [
    {
     "data": {
      "text/plain": [
       "'Hello! How can I assist you today?'"
      ]
     },
     "execution_count": 4,
     "metadata": {},
     "output_type": "execute_result"
    }
   ],
   "source": [
    "model.inference('hello')"
   ]
  },
  {
   "cell_type": "markdown",
   "metadata": {},
   "source": [
    "# Parsing"
   ]
  },
  {
   "cell_type": "code",
   "execution_count": 43,
   "metadata": {},
   "outputs": [],
   "source": [
    "from dataclasses import dataclass\n",
    "import PyPDF2\n",
    "import re\n",
    "\n",
    "def read_pdf_pages(file_path):\n",
    "    text = []\n",
    "    with open(file_path, 'rb') as f:\n",
    "        pdfReader = PyPDF2.PdfReader(f)\n",
    "        count = len(pdfReader.pages)\n",
    "        for i in range(count):\n",
    "            page = pdfReader.pages[i]\n",
    "            output = page.extract_text()\n",
    "            text.append(output)\n",
    "    return text\n",
    "\n",
    "\n",
    "def parse_passage_num(line):\n",
    "    num = -1\n",
    "    gr1 = re.search(r'^\\s*(Статья\\s+\\d+(\\.\\d+)*[абвгдежзик]?|\\d+(\\.\\d+)*[абвгдежзик]?|[абвгдежзик]\\))', line)\n",
    "    if gr1:\n",
    "        num = gr1.group(0).strip()\n",
    "        # Проверить не является ли датой\n",
    "        if re.search('^\\d{2}.\\d{2}.\\d{4}', line.strip()):\n",
    "            num = -1\n",
    "        # Проверить есть ли слово после номера\n",
    "#         if ' ' not in line or len(line.split(' ', 1)[1]) < 6:\n",
    "#             num = -1\n",
    "        # Пассажи всегда начинаются с большой буквы кроме случаев 1) а)\n",
    "        if not line.strip().startswith('Статья') and not line.strip().split()[0].endswith(')'):\n",
    "            if len(line.strip().split()) > 1 and not line.strip().split()[1][0].isupper():\n",
    "                num = -1\n",
    "\n",
    "        # Когда после номера статьи должна идти точка и большая буква\n",
    "        elif line.strip().startswith('Статья') and len(line.strip().split(' ', 2)) > 2:\n",
    "            if line.strip().split(' ', 2)[2][0].islower():\n",
    "                num = -1\n",
    "\n",
    "        # Сохранение случаев \"1)\"\n",
    "        tmp = str(num) + ')'\n",
    "        if line.startswith(tmp):\n",
    "            num = tmp\n",
    "\n",
    "    return num\n",
    "\n",
    "@dataclass\n",
    "class Passage:\n",
    "    text: str = ''\n",
    "    passage_number: str = None\n",
    "    page_number_first: int = None\n",
    "    page_number_last: int = None\n",
    "    text_with_meta: str = ''\n",
    "\n",
    "\n",
    "class NPA:\n",
    "    def __init__(self, file_path, passage_len_limits=[10, 8000]):\n",
    "#         self.doc_type = doc_type\n",
    "        self.doc_text = read_pdf_pages(file_path)\n",
    "        self.doc_name = file_path.split('/')[-1]\n",
    "        self.preproc_npa_text()\n",
    "        self.passage_len_limits = passage_len_limits\n",
    "        self.extract_passages()\n",
    "        self.add_meta_info_passages()\n",
    "\n",
    "    def preproc_npa_text(self):\n",
    "        # Вырезает шапку и ставляет номера страниц в нужном формате: PAGE=i\n",
    "        if 'ГАРАНТ' in self.doc_text[0]:\n",
    "            text = [re.split(r'Система\\s*[ГАРАНТ\\s]*\\s*\\d+/\\d+', p)[1].strip() for p in self.doc_text]\n",
    "        else:\n",
    "            text = [re.split(r'Страница\\s*\\d+\\s*из\\s*\\d+', p)[0].strip() if\n",
    "                        len(re.findall(r'Страница\\s*\\d+\\s*из\\s*\\d+', p)) > 0 else '' for p in self.doc_text]\n",
    "        text_plain = ''\n",
    "        for i in range(len(text)):\n",
    "            text_plain += f'\\nPAGE={i+1}\\n' + text[i]\n",
    "        text_plain = re.sub(r'\\n ', '\\n', text_plain)\n",
    "        text_plain = text_plain.replace('www.consultant.ru', '')\n",
    "        # text_plain = text_plain.replace(' КонсультантПлюс надежная правовая поддержка', '')\n",
    "        # text_plain = re.sub(\"КонсультантПлюс надежная правовая поддержка\", '', text_plain)\n",
    "        self.doc_text = text_plain\n",
    "\n",
    "    def extract_passages(self):\n",
    "        lines = self.doc_text.split('\\n')\n",
    "        passages = []\n",
    "        cur_passage = Passage()\n",
    "        page_num = None\n",
    "\n",
    "        for line in lines:\n",
    "            # Определить номер текущей страницы\n",
    "            page_nums = re.findall(r'PAGE=(\\d+)', line)\n",
    "\n",
    "            if page_nums:\n",
    "                page_num = int(page_nums[0])\n",
    "\n",
    "            line_text = line.strip()\n",
    "            num = parse_passage_num(line_text)\n",
    "\n",
    "            # Были случаи где Статья и ее номер были разделены двумя пробелами\n",
    "            if 'Статья' in str(num):\n",
    "                lst = num.split()\n",
    "                num = lst[0] + ' ' + lst[1]\n",
    "\n",
    "            # Новый блок документа -> сбрасываем стейт (см дальше при добавлении пассажа)\n",
    "            if num != -1:\n",
    "                if cur_passage.text:\n",
    "                    passages.append(cur_passage)\n",
    "                cur_passage = Passage(text=line_text, passage_number=num,\n",
    "                                      page_number_first=page_num, page_number_last=page_num)\n",
    "            else:\n",
    "                if cur_passage.passage_number is not None:\n",
    "                    if cur_passage.text or line_text:\n",
    "                        cur_passage.text += '\\n' + line_text\n",
    "                        cur_passage.page_number_last = page_num\n",
    "\n",
    "        if cur_passage.text:\n",
    "            passages.append(cur_passage)\n",
    "\n",
    "\n",
    "        # passage text postproc\n",
    "        for p in passages:\n",
    "            p.text = re.sub(r'PAGE=\\d+', '', p.text)\n",
    "            p.text = re.sub(r'(\\D)\\n+(\\D)', r'\\1 \\2', p.text.strip())\n",
    "\n",
    "        # отфильтровать по длине пассажа\n",
    "        self.passages = [p for p in passages if self.passage_len_limits[0] <= len(p.text) <= self.passage_len_limits[1]]\n",
    "\n",
    "\n",
    "    def add_meta_info_passages(self):\n",
    "        if self.passages is None:\n",
    "            self.extract_passages()\n",
    "\n",
    "        # Добавить пассажи первого уровня ко вторым и наоборот\n",
    "        first_level_text = ''\n",
    "        first_level_idx = None\n",
    "        for j, p in enumerate(self.passages):\n",
    "            # TO FIX: If Статья -> Статья is first level, else ...\n",
    "            if p.passage_number.startswith('Статья'):\n",
    "                first_level_text = p.text\n",
    "                p.text_with_meta = p.text\n",
    "                first_level_idx = j\n",
    "\n",
    "            elif not first_level_text.startswith('Статья') and ('.' not in p.passage_number and ')' not in p.passage_number):\n",
    "                first_level_text = p.text\n",
    "                p.text_with_meta = p.text\n",
    "                first_level_idx = j\n",
    "\n",
    "            else:\n",
    "                p.text_with_meta = first_level_text + '\\n' + p.text\n",
    "                if first_level_idx is not None:\n",
    "                    self.passages[first_level_idx].text_with_meta += '\\n' + p.text\n",
    "                    self.passages[first_level_idx].page_number_last = p.page_number_last\n",
    "\n"
   ]
  },
  {
   "cell_type": "code",
   "execution_count": 44,
   "metadata": {},
   "outputs": [
    {
     "name": "stdout",
     "output_type": "stream",
     "text": [
      "add 44_FZ.pdf to dataframe\n",
      "add 223_FZ.pdf to dataframe\n"
     ]
    }
   ],
   "source": [
    "import os\n",
    "passages_df_full = []\n",
    "file_names = ['44_FZ.pdf', '223_FZ.pdf']\n",
    "data_path_npa_pdf = r'../data'\n",
    "\n",
    "for name in file_names:\n",
    "    npa = NPA(rf\"{os.path.join(data_path_npa_pdf, name)}\")\n",
    "    passages_npa_df = []\n",
    "\n",
    "    for p in npa.passages:\n",
    "        passages_npa_df.append(\n",
    "            {\n",
    "                'passage': p.text,\n",
    "                'passage_full': p.text_with_meta,\n",
    "                'number': p.passage_number,\n",
    "                'page_first': p.page_number_first,\n",
    "                'page_last': p.page_number_last,\n",
    "                'title': name,\n",
    "            }\n",
    "        )\n",
    "    passages_df_full.extend(passages_npa_df)\n",
    "    print(f'add {name} to dataframe')\n",
    "\n",
    "\n",
    "temp = pd.DataFrame(passages_df_full)\n",
    "\n",
    "temp['passage'] = temp['passage'].apply(lambda x: x.replace('КонсультантПлюс надежная правовая поддержка', ''))\n",
    "temp['passage_full'] = temp['passage_full'].apply(lambda x: x.replace('КонсультантПлюс надежная правовая поддержка', ''))\n",
    "# temp.to_csv('путь куда сохранить consultants.csv', index=False)\n"
   ]
  },
  {
   "cell_type": "code",
   "execution_count": null,
   "metadata": {},
   "outputs": [],
   "source": [
    "def combine_points(data):\n",
    "    result = []\n",
    "    current_article = \"\"\n",
    "    current_section = \"\"\n",
    "\n",
    "    for entry in data:\n",
    "        if entry.startswith(\"Статья\"):\n",
    "            # Если строка начинается со слова \"Статья\", обновляем текущий заголовок\n",
    "            current_article = entry\n",
    "            current_section = \"\"\n",
    "            result.append(current_article)\n",
    "        elif entry.replace(\".\", \"\").isdigit():\n",
    "            # Если это номер раздела (например, \"1\", \"2\"), обновляем текущий раздел\n",
    "            current_section = f\"{current_article}.{entry}\"\n",
    "            result.append(current_section)\n",
    "        else:\n",
    "            # Если это подпункт (например, \"1)\", \"2)\", \"9.1)\"), добавляем его к текущему разделу\n",
    "            result.append(f\"{current_section}.{entry}\")\n",
    "\n",
    "    return result\n",
    "\n",
    "temp['new_number'] = combine_points(temp['number'])"
   ]
  },
  {
   "cell_type": "code",
   "execution_count": 80,
   "metadata": {},
   "outputs": [
    {
     "name": "stderr",
     "output_type": "stream",
     "text": [
      "Token indices sequence length is longer than the specified maximum sequence length for this model (2625 > 2048). Running this sequence through the model will result in indexing errors\n"
     ]
    }
   ],
   "source": [
    "from llama_index.core.node_parser import TokenTextSplitter\n",
    "from transformers import AutoTokenizer\n",
    "\n",
    "tokenizer = AutoTokenizer.from_pretrained('sergeyzh/rubert-tiny-turbo', cache_dir=\"../../models/\")\n",
    "\n",
    "def get_tokens(text, tokenizer=tokenizer):\n",
    "    text_enc = tokenizer.encode(text)\n",
    "    return text_enc\n",
    "\n",
    "splitter = TokenTextSplitter(chunk_size=1024, chunk_overlap=50, tokenizer=get_tokens)\n",
    "\n",
    "temp['last_passage'] = temp['passage_full'].apply(lambda x: splitter.split_text(x))\n",
    "\n",
    "full_temp = temp.explode('last_passage').reset_index(drop=True)"
   ]
  },
  {
   "cell_type": "code",
   "execution_count": 83,
   "metadata": {},
   "outputs": [],
   "source": [
    "full_temp = full_temp.rename(columns={\n",
    "    'last_passage': 'chunk'\n",
    "})\n",
    "\n",
    "full_temp.to_csv(\"../data/search.csv\", index=False)"
   ]
  },
  {
   "cell_type": "markdown",
   "metadata": {},
   "source": [
    "# Vector embedding Stores"
   ]
  },
  {
   "cell_type": "code",
   "execution_count": 1,
   "metadata": {},
   "outputs": [
    {
     "name": "stderr",
     "output_type": "stream",
     "text": [
      "c:\\Мисис\\python_ml\\rag_python_env\\lib\\site-packages\\tqdm\\auto.py:21: TqdmWarning: IProgress not found. Please update jupyter and ipywidgets. See https://ipywidgets.readthedocs.io/en/stable/user_install.html\n",
      "  from .autonotebook import tqdm as notebook_tqdm\n"
     ]
    }
   ],
   "source": [
    "from llama_index.embeddings.huggingface import HuggingFaceEmbedding\n",
    "\n",
    "model = HuggingFaceEmbedding(\"sergeyzh/rubert-tiny-turbo\", cache_folder=\"../../models/rubert_turbo\", device=\"cpu\")"
   ]
  },
  {
   "cell_type": "code",
   "execution_count": 8,
   "metadata": {},
   "outputs": [],
   "source": [
    "import faiss\n",
    "from llama_index.core import Document\n",
    "from llama_index.core import (\n",
    "    SimpleDirectoryReader,\n",
    "    load_index_from_storage,\n",
    "    VectorStoreIndex,\n",
    "    StorageContext,\n",
    ")\n",
    "from llama_index.vector_stores.faiss import FaissVectorStore\n",
    "import sys\n",
    "sys.path.append(\"../\")\n",
    "from config import settings\n",
    "\n",
    "d = len(model.get_query_embedding('hello'))\n",
    "faiss_index = faiss.IndexFlatL2(d)"
   ]
  },
  {
   "cell_type": "code",
   "execution_count": 22,
   "metadata": {},
   "outputs": [],
   "source": [
    "import pandas as pd\n",
    "import faiss\n",
    "from llama_index.core import Document\n",
    "from llama_index.core import (\n",
    "    SimpleDirectoryReader,\n",
    "    load_index_from_storage,\n",
    "    VectorStoreIndex,\n",
    "    StorageContext,\n",
    ")\n",
    "from llama_index.vector_stores.faiss import FaissVectorStore\n",
    "\n",
    "d = 312\n",
    "faiss_index = faiss.IndexFlatL2(d)\n",
    "\n",
    "\n",
    "class EmbeddingRetriever:\n",
    "    def __init__(self, settings):\n",
    "        # self.data = pd.read_csv(path_to_data)\n",
    "        pass\n",
    "\n",
    "\n",
    "    def make_docs(self):\n",
    "        docs = []\n",
    "        for ind, row in tqdm(self.data.iterrows(), total=len(self.data)):\n",
    "            doc = Document(text=row['chunk'])\n",
    "            doc.metadata = {\n",
    "                \"law_number\": row['title'],\n",
    "                \"title\": row['new_number'],\n",
    "                \"page_first\": row['page_first'],\n",
    "                \"page_last\": row['page_last'] \n",
    "            }\n",
    "            docs.append(doc)\n",
    "        return docs\n",
    "    \n",
    "\n",
    "    def make_and_save_index(self, faiss_index):\n",
    "        vector_store = FaissVectorStore(faiss_index=faiss_index)\n",
    "        storage_context = StorageContext.from_defaults(vector_store=vector_store)\n",
    "        index = VectorStoreIndex.from_documents(\n",
    "            docs, storage_context=storage_context, show_progress=True, embed_model=model\n",
    "        )\n",
    "        index_folder = \"../index/\"\n",
    "        index.storage_context.persist(index_folder)\n",
    "\n",
    "        print(f'index Save to {index_folder}')\n",
    "\n",
    "    \n",
    "    def load_emb_index(self):\n",
    "        vector_store = FaissVectorStore.from_persist_dir(settings.emb_index)\n",
    "        storage_context = StorageContext.from_defaults(\n",
    "            vector_store=vector_store, persist_dir=settings.emb_index\n",
    "        )\n",
    "        index = load_index_from_storage(storage_context=storage_context, embed_model=model)\n",
    "        return index"
   ]
  },
  {
   "cell_type": "code",
   "execution_count": 23,
   "metadata": {},
   "outputs": [],
   "source": [
    "emb_index = EmbeddingRetriever(settings).load_emb_index()"
   ]
  },
  {
   "cell_type": "code",
   "execution_count": 24,
   "metadata": {},
   "outputs": [
    {
     "data": {
      "text/plain": [
       "[NodeWithScore(node=TextNode(id_='e0b5624b-2a9e-4241-a2eb-31372ff90a93', embedding=None, metadata={'law_number': '44 Федеральный Закон', 'title': 'Статья 24.10.а)', 'page_first': 39, 'page_last': 39}, excluded_embed_metadata_keys=[], excluded_llm_metadata_keys=[], relationships={<NodeRelationship.SOURCE: '1'>: RelatedNodeInfo(node_id='2d1ca8e9-f927-4273-8be7-94706e96e3ec', node_type='4', metadata={'law_number': '44 Федеральный Закон', 'title': 'Статья 24.10.а)', 'page_first': 39, 'page_last': 39}, hash='3be58450615c700075f9a329a92fc480ea2de6b54ee08a19e0d0ec64a8b54edb')}, metadata_template='{key}: {value}', metadata_separator='\\n', text='Статья 24. Способы определения поставщиков (подрядчиков, исполнителей) (в ред. Федерального закона  от 02.07.2021 N 360-ФЗ)\\nа) закупки, по результатам которой заключается контракт на поставку товаров, необходимых для нормального жизнеобеспечения граждан; (пп. \"а\" в ред. Федерального закона  от 16.04.2022 N 104-ФЗ)', mimetype='text/plain', start_char_idx=0, end_char_idx=315, metadata_seperator='\\n', text_template='{metadata_str}\\n\\n{content}'), score=0.3689377009868622),\n",
       " NodeWithScore(node=TextNode(id_='1da30f39-e593-49ec-814e-731726580cd4', embedding=None, metadata={'law_number': '44 Федеральный Закон', 'title': 'Статья 95.15.б)', 'page_first': 190, 'page_last': 190}, excluded_embed_metadata_keys=[], excluded_llm_metadata_keys=[], relationships={<NodeRelationship.SOURCE: '1'>: RelatedNodeInfo(node_id='c8d7a1f6-8d13-4bf1-8e8f-d209cee8da79', node_type='4', metadata={'law_number': '44 Федеральный Закон', 'title': 'Статья 95.15.б)', 'page_first': 190, 'page_last': 190}, hash='08af0e05fb4da9512253932f7bab11e450aa2f609a5ee41d62dbcee385fe0568')}, metadata_template='{key}: {value}', metadata_separator='\\n', text='Статья 95. Изменение, расторжение контракта\\nб) при определении поставщика (подрядчика, исполнителя) поставщик (подрядчик, исполнитель) представил недостоверную информацию о своем соответствии и (или) соответствии поставляемого товара требованиям, указанным в подпункте \"а\"  настоящего пункта, что позволило ему стать победителем определения поставщика (подрядчика, исполнителя); (п. 1 в ред. Федерального закона  от 02.07.2021 N 360-ФЗ)', mimetype='text/plain', start_char_idx=0, end_char_idx=436, metadata_seperator='\\n', text_template='{metadata_str}\\n\\n{content}'), score=0.3769877254962921),\n",
       " NodeWithScore(node=TextNode(id_='f8cc5c5a-b4f0-4932-aca5-7e821f23927e', embedding=None, metadata={'law_number': '44 Федеральный Закон', 'title': 'Статья 26.4', 'page_first': 51, 'page_last': 51}, excluded_embed_metadata_keys=[], excluded_llm_metadata_keys=[], relationships={<NodeRelationship.SOURCE: '1'>: RelatedNodeInfo(node_id='11a689b7-27ad-43c3-b8cc-452cdc84f25b', node_type='4', metadata={'law_number': '44 Федеральный Закон', 'title': 'Статья 26.4', 'page_first': 51, 'page_last': 51}, hash='29137b110e67037dd2dcc915959c75aaa308ea1e0e0740838cdd6c8d2d7dde84')}, metadata_template='{key}: {value}', metadata_separator='\\n', text='Статья 26. Централизованные закупки\\n4. Уполномоченные органы, уполномоченные учреждения, на которые возложены полномочия на определение поставщиков (подрядчиков, исполнителей) для обеспечения нужд субъектов Российской Федерации, вправе осуществлять полномочия уполномоченных органов, уполномоченных учреждений муниципальных образований на определение поставщиков (подрядчиков, исполнителей) на основании соглашений между субъектами Российской Федерации и находящимися на их территориях муниципальными образованиями.', mimetype='text/plain', start_char_idx=0, end_char_idx=515, metadata_seperator='\\n', text_template='{metadata_str}\\n\\n{content}'), score=0.38104870915412903),\n",
       " NodeWithScore(node=TextNode(id_='c5cf67aa-a787-40a6-a661-ea0579cfce96', embedding=None, metadata={'law_number': '44 Федеральный Закон', 'title': 'Статья 24.10.в)', 'page_first': 39, 'page_last': 39}, excluded_embed_metadata_keys=[], excluded_llm_metadata_keys=[], relationships={<NodeRelationship.SOURCE: '1'>: RelatedNodeInfo(node_id='3bd56024-ddb1-46d3-a78a-7dc1c713a3a2', node_type='4', metadata={'law_number': '44 Федеральный Закон', 'title': 'Статья 24.10.в)', 'page_first': 39, 'page_last': 39}, hash='3eece55418047e0c47cb72afb7e2fc3d908eb8c5ec3a9bebd260d084e36b9c80')}, metadata_template='{key}: {value}', metadata_separator='\\n', text='Статья 24. Способы определения поставщиков (подрядчиков, исполнителей) (в ред. Федерального закона  от 02.07.2021 N 360-ФЗ)\\nв) закупок заказчиком, осуществляющим деятельность на территории иностранного государства;', mimetype='text/plain', start_char_idx=0, end_char_idx=214, metadata_seperator='\\n', text_template='{metadata_str}\\n\\n{content}'), score=0.3826499581336975),\n",
       " NodeWithScore(node=TextNode(id_='58bfd78f-c374-451a-9b6c-a8ee0b60615e', embedding=None, metadata={'law_number': '44 Федеральный Закон', 'title': 'Статья 26.5.2)', 'page_first': 51, 'page_last': 52}, excluded_embed_metadata_keys=[], excluded_llm_metadata_keys=[], relationships={<NodeRelationship.SOURCE: '1'>: RelatedNodeInfo(node_id='c0c3e366-4b04-4ca7-9d6e-37c1693e3402', node_type='4', metadata={'law_number': '44 Федеральный Закон', 'title': 'Статья 26.5.2)', 'page_first': 51, 'page_last': 52}, hash='37c7c6109230012664031653c5e1b79029178af655869baebd6590148139ca3e')}, metadata_template='{key}: {value}', metadata_separator='\\n', text='Статья 26. Централизованные закупки\\n2) наделение уполномоченного органа, уполномоченного учреждения или несколько уполномоченных органов, уполномоченных учреждений полномочиями на определение поставщиков (подрядчиков, исполнителей) для соответствующих заказчиков;', mimetype='text/plain', start_char_idx=0, end_char_idx=263, metadata_seperator='\\n', text_template='{metadata_str}\\n\\n{content}'), score=0.3833942711353302),\n",
       " NodeWithScore(node=TextNode(id_='70789f95-c514-4115-b16f-aaa89d3f157d', embedding=None, metadata={'law_number': '44 Федеральный Закон', 'title': 'Статья 93.5.а)', 'page_first': 168, 'page_last': 169}, excluded_embed_metadata_keys=[], excluded_llm_metadata_keys=[], relationships={<NodeRelationship.SOURCE: '1'>: RelatedNodeInfo(node_id='63990c1e-7b4d-4f57-be67-1a350edec1b4', node_type='4', metadata={'law_number': '44 Федеральный Закон', 'title': 'Статья 93.5.а)', 'page_first': 168, 'page_last': 169}, hash='9a0132575a06344662ea5efa68f40270e8972a4ee2eaac9de40e70451aac34f9')}, metadata_template='{key}: {value}', metadata_separator='\\n', text='Статья 93. Осуществление закупки у единственного поставщика (подрядчика, исполнителя)\\nа) единственный поставщик (подрядчик, исполнитель) в случаях, предусмотренных статьей\\n51 настоящего Федерального закона для формирования, размещения информации и документов на электронной площадке, специализированной электронной площадке, формирует и размещает  такие информацию и документы в единой информационной системе (если иное не предусмотрено в соответствии с настоящим Федеральным законом);', mimetype='text/plain', start_char_idx=0, end_char_idx=485, metadata_seperator='\\n', text_template='{metadata_str}\\n\\n{content}'), score=0.38374558091163635),\n",
       " NodeWithScore(node=TextNode(id_='b88a3c66-4a5d-41e8-8c54-c423ff4896fd', embedding=None, metadata={'law_number': '44 Федеральный Закон', 'title': 'Статья 34.25', 'page_first': 75, 'page_last': 75}, excluded_embed_metadata_keys=[], excluded_llm_metadata_keys=[], relationships={<NodeRelationship.SOURCE: '1'>: RelatedNodeInfo(node_id='8ae849ad-9e24-4a3e-8f97-f9e745b031f4', node_type='4', metadata={'law_number': '44 Федеральный Закон', 'title': 'Статья 34.25', 'page_first': 75, 'page_last': 75}, hash='f5d6ad9f0ca6fa7721a421e6bb144f27a9b24e3d8982ce63aede9d1a30a247e0')}, metadata_template='{key}: {value}', metadata_separator='\\n', text='Статья 34. Контракт\\n25. В случае непредоставления заказчику указанной в части 23  настоящей статьи информации поставщиком (подрядчиком, исполнителем) информация об этом размещается в единой информационной системе. Непредоставление указанной информации поставщиком (подрядчиком, исполнителем) не влечет за собой недействительность заключенного контракта по данному основанию.', mimetype='text/plain', start_char_idx=0, end_char_idx=374, metadata_seperator='\\n', text_template='{metadata_str}\\n\\n{content}'), score=0.3861083686351776),\n",
       " NodeWithScore(node=TextNode(id_='762a095a-cca4-4905-b5a4-ca780dc92208', embedding=None, metadata={'law_number': '44 Федеральный Закон', 'title': 'Статья 24.11.3)', 'page_first': 40, 'page_last': 40}, excluded_embed_metadata_keys=[], excluded_llm_metadata_keys=[], relationships={<NodeRelationship.SOURCE: '1'>: RelatedNodeInfo(node_id='a0c55637-c762-494b-b667-0be217be6731', node_type='4', metadata={'law_number': '44 Федеральный Закон', 'title': 'Статья 24.11.3)', 'page_first': 40, 'page_last': 40}, hash='eeac9cfc87328a4fdbc3a5564e02ad0943c234732ccbc4767dd44316f7acd814')}, metadata_template='{key}: {value}', metadata_separator='\\n', text='Статья 24. Способы определения поставщиков (подрядчиков, исполнителей) (в ред. Федерального закона  от 02.07.2021 N 360-ФЗ)\\n3) закупок услуг по страхованию, транспортировке, охране:', mimetype='text/plain', start_char_idx=0, end_char_idx=181, metadata_seperator='\\n', text_template='{metadata_str}\\n\\n{content}'), score=0.38657739758491516),\n",
       " NodeWithScore(node=TextNode(id_='260374dd-a7cc-4337-af4c-f5e0f806057b', embedding=None, metadata={'law_number': '44 Федеральный Закон', 'title': 'Статья 94.1.2)', 'page_first': 176, 'page_last': 177}, excluded_embed_metadata_keys=[], excluded_llm_metadata_keys=[], relationships={<NodeRelationship.SOURCE: '1'>: RelatedNodeInfo(node_id='e27ff434-ffdf-4864-954b-777128a19891', node_type='4', metadata={'law_number': '44 Федеральный Закон', 'title': 'Статья 94.1.2)', 'page_first': 176, 'page_last': 177}, hash='3207dbefd8bcc66a0e570d632051a7ec9ef32c8e3eb76f82c4e53edc5114d4ad')}, metadata_template='{key}: {value}', metadata_separator='\\n', text='Статья 94. Особенности исполнения контракта\\n2) оплату заказчиком поставщику (подрядчику, исполнителю) поставленного товара,  выполненной работы (ее результатов), оказанной услуги, а также отдельных этапов исполнения контракта; (в ред. Федерального закона  от 02.07.2021 N 360-ФЗ)', mimetype='text/plain', start_char_idx=0, end_char_idx=279, metadata_seperator='\\n', text_template='{metadata_str}\\n\\n{content}'), score=0.3894099295139313),\n",
       " NodeWithScore(node=TextNode(id_='bc6d4802-2e72-4d53-8868-60eb8b778415', embedding=None, metadata={'law_number': '44 Федеральный Закон', 'title': 'Статья 24.10.б)', 'page_first': 39, 'page_last': 39}, excluded_embed_metadata_keys=[], excluded_llm_metadata_keys=[], relationships={<NodeRelationship.SOURCE: '1'>: RelatedNodeInfo(node_id='30ace244-6fff-47df-bcf6-6ba462f317b7', node_type='4', metadata={'law_number': '44 Федеральный Закон', 'title': 'Статья 24.10.б)', 'page_first': 39, 'page_last': 39}, hash='54349c52c046e0ba4f9d2fe7fbb5d10ada29c32030710c3f98a49baefb015fd5')}, metadata_template='{key}: {value}', metadata_separator='\\n', text='Статья 24. Способы определения поставщиков (подрядчиков, исполнителей) (в ред. Федерального закона  от 02.07.2021 N 360-ФЗ)\\nб) закупки товаров, работ или услуг, являющихся предметом контракта, расторжение которого осуществлено заказчиком на основании части 9  или 15 статьи 95  настоящего Федерального закона. При этом такая закупка осуществляется с учетом положений части 18\\nстатьи 95  настоящего Федерального закона;', mimetype='text/plain', start_char_idx=0, end_char_idx=418, metadata_seperator='\\n', text_template='{metadata_str}\\n\\n{content}'), score=0.3903295695781708),\n",
       " NodeWithScore(node=TextNode(id_='9bce7be1-b292-4d59-b6ec-ba7057d445f7', embedding=None, metadata={'law_number': '44 Федеральный Закон', 'title': 'Статья 93.1.16)', 'page_first': 158, 'page_last': 158}, excluded_embed_metadata_keys=[], excluded_llm_metadata_keys=[], relationships={<NodeRelationship.SOURCE: '1'>: RelatedNodeInfo(node_id='57747fd8-213f-47c7-9458-2341d3f63e8f', node_type='4', metadata={'law_number': '44 Федеральный Закон', 'title': 'Статья 93.1.16)', 'page_first': 158, 'page_last': 158}, hash='3852f8f135af1ef1bf28f75ebe6c3640b317b2d5e5636ff9c701ebade3bb9026')}, metadata_template='{key}: {value}', metadata_separator='\\n', text='Статья 93. Осуществление закупки у единственного поставщика (подрядчика, исполнителя)\\n16) заключение контракта на оказание услуг по участию в мероприятии, проводимом для нужд нескольких заказчиков, с поставщиком (подрядчиком, исполнителем), который определен заказчиком, являющимся организатором такого мероприятия, в порядке, установленном настоящим Федеральным законом;', mimetype='text/plain', start_char_idx=0, end_char_idx=371, metadata_seperator='\\n', text_template='{metadata_str}\\n\\n{content}'), score=0.3910490870475769),\n",
       " NodeWithScore(node=TextNode(id_='62ee7976-fd6b-489d-a4cd-089e628fba91', embedding=None, metadata={'law_number': '44 Федеральный Закон', 'title': 'Статья 24.11', 'page_first': 40, 'page_last': 40}, excluded_embed_metadata_keys=[], excluded_llm_metadata_keys=[], relationships={<NodeRelationship.SOURCE: '1'>: RelatedNodeInfo(node_id='2c950762-c1df-41f0-b2bf-1f2137997f6e', node_type='4', metadata={'law_number': '44 Федеральный Закон', 'title': 'Статья 24.11', 'page_first': 40, 'page_last': 40}, hash='2db9075f86166a8274265a42f07c350e6f5eafb21bf4462ef31b5d3f1ce7d91f')}, metadata_template='{key}: {value}', metadata_separator='\\n', text='Статья 24. Способы определения поставщиков (подрядчиков, исполнителей) (в ред. Федерального закона  от 02.07.2021 N 360-ФЗ)\\n11. Закрытые конкурентные способы применяются в случаях:', mimetype='text/plain', start_char_idx=0, end_char_idx=180, metadata_seperator='\\n', text_template='{metadata_str}\\n\\n{content}'), score=0.3913436830043793),\n",
       " NodeWithScore(node=TextNode(id_='d8104990-30ef-4450-aed6-ad4bab50a20b', embedding=None, metadata={'law_number': '44 Федеральный Закон', 'title': 'Статья 93.10', 'page_first': 170, 'page_last': 170}, excluded_embed_metadata_keys=[], excluded_llm_metadata_keys=[], relationships={<NodeRelationship.SOURCE: '1'>: RelatedNodeInfo(node_id='0b1c3e28-fd73-429d-b5d7-ee9e65ecf005', node_type='4', metadata={'law_number': '44 Федеральный Закон', 'title': 'Статья 93.10', 'page_first': 170, 'page_last': 170}, hash='a3cb4958e5c51a45b3611dc70d2a331f3dca589103578a1c6e5f9e3824ab6b1a')}, metadata_template='{key}: {value}', metadata_separator='\\n', text='Статья 93. Осуществление закупки у единственного поставщика (подрядчика, исполнителя)\\n10. В случае принятия контрольным органом в сфере закупок решения об отказе в согласовании заключения контракта с единственным поставщиком (подрядчиком, исполнителем) определение поставщика признается несостоявшимся. Заказчик вносит изменения в план-график закупок (при необходимости), осуществляет новую закупку в соответствии с настоящим Федеральным законом (при необходимости). (часть 10 введена Федеральным законом  от 27.12.2019 N 449-ФЗ)', mimetype='text/plain', start_char_idx=0, end_char_idx=529, metadata_seperator='\\n', text_template='{metadata_str}\\n\\n{content}'), score=0.39179494976997375),\n",
       " NodeWithScore(node=TextNode(id_='a694d49a-b80c-4233-ba74-25638e899654', embedding=None, metadata={'law_number': '44 Федеральный Закон', 'title': 'Статья 26.5.а)', 'page_first': 51, 'page_last': 51}, excluded_embed_metadata_keys=[], excluded_llm_metadata_keys=[], relationships={<NodeRelationship.SOURCE: '1'>: RelatedNodeInfo(node_id='e42afbd5-ac9f-42ff-9387-8febac87de89', node_type='4', metadata={'law_number': '44 Федеральный Закон', 'title': 'Статья 26.5.а)', 'page_first': 51, 'page_last': 51}, hash='dcc21b3b3ed9d4be1bf53552e95259ab52b851073e9dbbd950cb46cf25e2211b')}, metadata_template='{key}: {value}', metadata_separator='\\n', text='Статья 26. Централизованные закупки\\nа) определение поставщиков (подрядчиков, исполнителей) для соответствующих заказчиков;', mimetype='text/plain', start_char_idx=0, end_char_idx=122, metadata_seperator='\\n', text_template='{metadata_str}\\n\\n{content}'), score=0.3922710716724396),\n",
       " NodeWithScore(node=TextNode(id_='182221e4-b1c9-4f8f-8952-0519e097837b', embedding=None, metadata={'law_number': '44 Федеральный Закон', 'title': 'Статья 93.5', 'page_first': 168, 'page_last': 168}, excluded_embed_metadata_keys=[], excluded_llm_metadata_keys=[], relationships={<NodeRelationship.SOURCE: '1'>: RelatedNodeInfo(node_id='fa8ee42c-4ad9-4ccf-88d5-4acb26f91e13', node_type='4', metadata={'law_number': '44 Федеральный Закон', 'title': 'Статья 93.5', 'page_first': 168, 'page_last': 168}, hash='baa8551e943cc3fa6c437b318128e16fd0eef9c7469763410bc14dc62a913768')}, metadata_template='{key}: {value}', metadata_separator='\\n', text='Статья 93. Осуществление закупки у единственного поставщика (подрядчика, исполнителя)\\n5. Заключение контракта с единственным поставщиком (подрядчиком, исполнителем) в случае признания определения поставщика (подрядчика, исполнителя) несостоявшимся осуществляется в соответствии с пунктами 24  и25 части 1  настоящей статьи:', mimetype='text/plain', start_char_idx=0, end_char_idx=323, metadata_seperator='\\n', text_template='{metadata_str}\\n\\n{content}'), score=0.3923027217388153),\n",
       " NodeWithScore(node=TextNode(id_='6f1ff325-1220-4f0a-bc7a-8acb10964f59', embedding=None, metadata={'law_number': '44 Федеральный Закон', 'title': 'Статья 99.15.5)', 'page_first': 209, 'page_last': 209}, excluded_embed_metadata_keys=[], excluded_llm_metadata_keys=[], relationships={<NodeRelationship.SOURCE: '1'>: RelatedNodeInfo(node_id='14a56fbb-8202-461f-83be-33577241fa3e', node_type='4', metadata={'law_number': '44 Федеральный Закон', 'title': 'Статья 99.15.5)', 'page_first': 209, 'page_last': 209}, hash='25c47547ac11b4f040d226f351f048a5b45a63ecc20372f1a4015aa8ee3312b3')}, metadata_template='{key}: {value}', metadata_separator='\\n', text='Статья 99. Контроль в сфере закупок\\n5) получение обращения о включении информации об участнике закупки или о поставщике (подрядчике, исполнителе) в реестр недобросовестных поставщиков (подрядчиков, исполнителей). (п. 5 введен Федеральным законом  от 30.12.2020 N 539-ФЗ)', mimetype='text/plain', start_char_idx=0, end_char_idx=270, metadata_seperator='\\n', text_template='{metadata_str}\\n\\n{content}'), score=0.39261507987976074),\n",
       " NodeWithScore(node=TextNode(id_='5a4f2354-70fb-41d8-b664-2d4692b47bef', embedding=None, metadata={'law_number': '44 Федеральный Закон', 'title': 'Статья 104', 'page_first': 218, 'page_last': 221}, excluded_embed_metadata_keys=[], excluded_llm_metadata_keys=[], relationships={<NodeRelationship.SOURCE: '1'>: RelatedNodeInfo(node_id='19ee7a68-bf48-44fc-bfa1-298a13f26971', node_type='4', metadata={'law_number': '44 Федеральный Закон', 'title': 'Статья 104', 'page_first': 218, 'page_last': 221}, hash='0fcbc2bee1729f3c65896325c4486f9b6d147ec7fb2bc0cae3fa085dd92a57fa')}, metadata_template='{key}: {value}', metadata_separator='\\n', text='исключения информации, предусмотренной частью 3  настоящей статьи, из реестра недобросовестных поставщиков. (часть 10 в ред. Федерального закона  от 30.12.2020 N 539-ФЗ)\\n11. Включение в реестр недобросовестных поставщиков информации об участнике закупки, о поставщике (подрядчике, исполнителе), содержащаяся в реестре недобросовестных поставщиков информация, неисполнение действий, предусмотренных частью 9  настоящей статьи, могут быть обжалованы заинтересованным лицом в судебном порядке. (в ред. Федерального закона  от 16.04.2022 N 104-ФЗ) Глава 6. ОБЖАЛОВАНИЕ ДЕЙСТВИЙ (БЕЗДЕЙСТВИЯ) СУБЪЕКТОВ КОНТРОЛЯ (в ред. Федерального закона  от 02.07.2021 N 360-ФЗ)', mimetype='text/plain', start_char_idx=0, end_char_idx=659, metadata_seperator='\\n', text_template='{metadata_str}\\n\\n{content}'), score=0.39270105957984924),\n",
       " NodeWithScore(node=TextNode(id_='419acc72-b800-4634-936d-b112769993b6', embedding=None, metadata={'law_number': '44 Федеральный Закон', 'title': 'Статья 104.11', 'page_first': 221, 'page_last': 221}, excluded_embed_metadata_keys=[], excluded_llm_metadata_keys=[], relationships={<NodeRelationship.SOURCE: '1'>: RelatedNodeInfo(node_id='735d48f5-8a46-430f-aae8-531386981265', node_type='4', metadata={'law_number': '44 Федеральный Закон', 'title': 'Статья 104.11', 'page_first': 221, 'page_last': 221}, hash='91376f5b93702671912d7abb6b08cb3b07a0806d70354f98d02b4f8def6149a2')}, metadata_template='{key}: {value}', metadata_separator='\\n', text='Статья 104. Реестр недобросовестных поставщиков (подрядчиков, исполнителей)\\n11. Включение в реестр недобросовестных поставщиков информации об участнике закупки, о поставщике (подрядчике, исполнителе), содержащаяся в реестре недобросовестных поставщиков информация, неисполнение действий, предусмотренных частью 9  настоящей статьи, могут быть обжалованы заинтересованным лицом в судебном порядке. (в ред. Федерального закона  от 16.04.2022 N 104-ФЗ) Глава 6. ОБЖАЛОВАНИЕ ДЕЙСТВИЙ (БЕЗДЕЙСТВИЯ) СУБЪЕКТОВ КОНТРОЛЯ (в ред. Федерального закона  от 02.07.2021 N 360-ФЗ)', mimetype='text/plain', start_char_idx=0, end_char_idx=565, metadata_seperator='\\n', text_template='{metadata_str}\\n\\n{content}'), score=0.3927319049835205),\n",
       " NodeWithScore(node=TextNode(id_='d4a5b87c-34cf-4c50-8f47-76c9f5c89542', embedding=None, metadata={'law_number': '44 Федеральный Закон', 'title': 'Статья 104.9.2)', 'page_first': 220, 'page_last': 220}, excluded_embed_metadata_keys=[], excluded_llm_metadata_keys=[], relationships={<NodeRelationship.SOURCE: '1'>: RelatedNodeInfo(node_id='f4958711-0659-43b4-9fbb-0a7dd3b98f49', node_type='4', metadata={'law_number': '44 Федеральный Закон', 'title': 'Статья 104.9.2)', 'page_first': 220, 'page_last': 220}, hash='a004735985f54de61ff026ad782be9a4bb43403ff02e14a11d2b51674f2b47ba')}, metadata_template='{key}: {value}', metadata_separator='\\n', text='Статья 104. Реестр недобросовестных поставщиков (подрядчиков, исполнителей)\\n2) информации, подтверждающей невозможность влияния лиц, указанных в пунктах 2  и3\\nчасти 3  настоящей статьи, на деятельность участника закупки, поставщика (подрядчика, исполнителя), по состоянию на день признания участника закупки уклонившимся от заключения контракта или на день расторжения контракта. (часть 9 в ред. Федерального закона  от 30.12.2020 N 539-ФЗ)', mimetype='text/plain', start_char_idx=0, end_char_idx=440, metadata_seperator='\\n', text_template='{metadata_str}\\n\\n{content}'), score=0.3931317627429962),\n",
       " NodeWithScore(node=TextNode(id_='03aa3b78-d65d-44e9-a42a-a0716a0537c0', embedding=None, metadata={'law_number': '223 Федеральный Закон', 'title': 'Статья 8.5.1.7)', 'page_first': 66, 'page_last': 66}, excluded_embed_metadata_keys=[], excluded_llm_metadata_keys=[], relationships={<NodeRelationship.SOURCE: '1'>: RelatedNodeInfo(node_id='0552804c-23f2-4947-9bee-52ec370ad66c', node_type='4', metadata={'law_number': '223 Федеральный Закон', 'title': 'Статья 8.5.1.7)', 'page_first': 66, 'page_last': 66}, hash='420d843b102b43b331584518d9a849f6f92484287d9313c7070385ea1f312bbd')}, metadata_template='{key}: {value}', metadata_separator='\\n', text='Статья 8. Порядок вступления в силу настоящего Федерального закона\\n7) определения поставщика (исполнителя, подрядчика) в соответствии с параграфами 2  и3\\nглавы 3  Федерального закона от 5 апреля 2013 года N 44-ФЗ \"О контрактной системе в сфере закупок товаров, работ, услуг для обеспечения государственных и муниципальных нужд\". При этом заказчики: (в ред. Федерального закона  от 02.07.2021 N 360-ФЗ)', mimetype='text/plain', start_char_idx=0, end_char_idx=401, metadata_seperator='\\n', text_template='{metadata_str}\\n\\n{content}'), score=0.39382803440093994)]"
      ]
     },
     "execution_count": 24,
     "metadata": {},
     "output_type": "execute_result"
    }
   ],
   "source": [
    "emb_index.as_retriever(similarity_top_k=20).retrieve('кто такой поставщик')"
   ]
  },
  {
   "cell_type": "markdown",
   "metadata": {},
   "source": [
    "# BM25 Retriever"
   ]
  },
  {
   "cell_type": "code",
   "execution_count": 25,
   "metadata": {},
   "outputs": [],
   "source": [
    "from llama_index.retrievers.bm25 import BM25Retriever\n",
    "import Stemmer\n",
    "from llama_index.core.schema import TextNode"
   ]
  },
  {
   "cell_type": "code",
   "execution_count": 26,
   "metadata": {},
   "outputs": [],
   "source": [
    "from typing import List\n",
    "from llama_index.core import Document\n",
    "from llama_index.core.schema import TextNode\n",
    "from llama_index.retrievers.bm25 import BM25Retriever\n",
    "import Stemmer\n",
    "from config import settings\n",
    "import joblib\n",
    "\n",
    "\n",
    "class BMRetriever:\n",
    "    def __init__(self, settings):\n",
    "        if settings.bm_index:\n",
    "            self.nodes = joblib.load(settings.bm_index)\n",
    "\n",
    "    def load_bm_retriever(self):\n",
    "        bm25_retriever = BM25Retriever.from_defaults(\n",
    "            nodes=self.nodes,\n",
    "            similarity_top_k=settings.top_k_bm,\n",
    "            stemmer=Stemmer.Stemmer(\"russian\"),\n",
    "            language=\"russian\",\n",
    "        )\n",
    "        return bm25_retriever\n",
    "    \n",
    "    def make_nodes(self, docs: Document):\n",
    "        nodes = []\n",
    "        for doc in tqdm(docs):\n",
    "            node = TextNode(text=doc.get_content())\n",
    "            node.metadata = doc.metadata\n",
    "            nodes.append(node)\n",
    "\n",
    "        joblib.dump(nodes, settings.bm_index)\n",
    "        print(f\"Saved bm nodes to {settings.bm_index}\")"
   ]
  },
  {
   "cell_type": "code",
   "execution_count": 27,
   "metadata": {},
   "outputs": [],
   "source": [
    "bm_retriever = BMRetriever(settings).load_bm_retriever()"
   ]
  },
  {
   "cell_type": "code",
   "execution_count": 39,
   "metadata": {},
   "outputs": [],
   "source": [
    "a = bm_retriever.retrieve('helllo')[0]"
   ]
  },
  {
   "cell_type": "markdown",
   "metadata": {},
   "source": [
    "# FusionRetriever"
   ]
  },
  {
   "cell_type": "code",
   "execution_count": 1,
   "metadata": {},
   "outputs": [],
   "source": [
    "from pydantic import BaseModel\n",
    "from llama_index.core.schema import NodeWithScore\n",
    "\n",
    "class FusionDTO(BaseModel):\n",
    "    score: float\n",
    "    law_number: str\n",
    "    title: str\n",
    "    page_first: int\n",
    "    page_last: int\n",
    "    text: str\n",
    "\n",
    "    @classmethod\n",
    "    def from_node_with_score(cls, node: NodeWithScore) -> \"FusionDTO\":\n",
    "        \"\"\"\n",
    "        Create a FusionDTO instance from a NodeWithScore instance.\n",
    "\n",
    "        Args:\n",
    "            node (NodeWithScore): The source node object.\n",
    "\n",
    "        Returns:\n",
    "            FusionDTO: A new instance of FusionDTO.\n",
    "        \"\"\"\n",
    "        return cls(\n",
    "            score=node.score,\n",
    "            law_number=node.metadata.get(\"law_number\", \"\"),\n",
    "            title=node.metadata.get(\"title\", \"\"),\n",
    "            page_first=node.metadata.get(\"page_first\", 0),\n",
    "            page_last=node.metadata.get(\"page_last\", 0),\n",
    "            text=node.text,\n",
    "        )\n"
   ]
  },
  {
   "cell_type": "code",
   "execution_count": null,
   "metadata": {},
   "outputs": [],
   "source": [
    "from llama_index.core.schema import NodeWithScore\n",
    "from typing import List, Dict\n",
    "from collections import defaultdict\n",
    "import sys\n",
    "sys.path.append(\"../\")\n",
    "from utils.retrievers.BM25Retriever import BMRetriever\n",
    "from utils.retrievers.EmbeddingRetriever import EmbeddingRetriever\n",
    "from config import settings\n",
    "\n",
    "class FusionRetriever(BMRetriever, EmbeddingRetriever):\n",
    "    def __init__(self, settings):\n",
    "        BMRetriever.__init__(self, settings=settings)\n",
    "        EmbeddingRetriever.__init__(self, settings=settings)\n",
    "\n",
    "        self.bm25_r = self.load_bm_retriever()\n",
    "        emb_index = self.load_emb_index()\n",
    "        self.emb_r = emb_index.as_retriever(similarity_top_k=settings.top_k_emb)\n",
    "    \n",
    "\n",
    "    def normalize_scores(self, nodes: List[NodeWithScore]) -> List[FusionDTO]:\n",
    "        \"\"\"\n",
    "        Преобразует список NodeWithScore в список FusionDTO и нормализует поле score по методу мин-макс.\n",
    "\n",
    "        Аргументы:\n",
    "            nodes (List[NodeWithScore]): Список объектов NodeWithScore для обработки.\n",
    "\n",
    "        Возвращает:\n",
    "            List[FusionDTO]: Список объектов FusionDTO с нормализованными значениями score.\n",
    "        \"\"\"\n",
    "        dtos = [FusionDTO.from_node_with_score(node) for node in nodes]\n",
    "        scores = [dto.score for dto in dtos]\n",
    "\n",
    "        min_score = min(scores)\n",
    "        max_score = max(scores)\n",
    "\n",
    "        if max_score - min_score == 0:\n",
    "            for dto in dtos:\n",
    "                dto.score = 1.0  # Все значения одинаковы, нормализуем в 1.0\n",
    "            return dtos\n",
    "\n",
    "        for dto in dtos:\n",
    "            dto.score = (dto.score - min_score) / (max_score - min_score)\n",
    "\n",
    "        return dtos\n",
    "    \n",
    "\n",
    "    def rrf_fusion(self, list1: List[FusionDTO], list2: List[FusionDTO], k: int = 60, weights = settings.weights) -> List[FusionDTO]:\n",
    "        \"\"\"\n",
    "        Выполняет RRF-фузию (Reciprocal Rank Fusion) для двух списков объектов FusionDTO, \n",
    "        учитывая ранги и веса скоров.\n",
    "\n",
    "        Аргументы:\n",
    "            list1 (List[FusionDTO]): Первый список объектов FusionDTO.\n",
    "            list2 (List[FusionDTO]): Второй список объектов FusionDTO.\n",
    "            k (int): Параметр RRF для контроля влияния ранга (по умолчанию: 60).\n",
    "            weight1 (float): Вес первого списка (по умолчанию: 1.0).\n",
    "            weight2 (float): Вес второго списка (по умолчанию: 1.0).\n",
    "\n",
    "        Возвращает:\n",
    "            List[FusionDTO]: Список объектов FusionDTO, объединённых по методу RRF, \n",
    "                            отсортированный по убыванию финальных RRF-оценок.\n",
    "        \"\"\"\n",
    "        rrf_scores: Dict[str, float] = defaultdict(float)\n",
    "        dto_mapping: Dict[str, FusionDTO] = {}\n",
    "\n",
    "        def update_rrf_scores(dtos: List[FusionDTO], rank_offset: int, weight: float):\n",
    "            \"\"\"\n",
    "            Обновляет RRF-оценки для объектов списка с учётом их текущего score.\n",
    "\n",
    "            Аргументы:\n",
    "                dtos (List[FusionDTO]): Список FusionDTO для обработки.\n",
    "                rank_offset (int): Значение k, добавляемое к рангу.\n",
    "                weight (float): Вес текущего списка.\n",
    "            \"\"\"\n",
    "            for rank, dto in enumerate(dtos, start=1):\n",
    "                identifier = f\"{dto.law_number}-{dto.title}\"\n",
    "                adjusted_score = dto.score * weight\n",
    "                rrf_scores[identifier] += adjusted_score / (rank + rank_offset)\n",
    "                dto_mapping[identifier] = dto \n",
    "\n",
    "        update_rrf_scores(list1, k, weights[0])\n",
    "        update_rrf_scores(list2, k, weights[1])\n",
    "\n",
    "        combined = [\n",
    "            (dto_mapping[identifier], score) for identifier, score in rrf_scores.items()\n",
    "        ]\n",
    "        combined.sort(key=lambda x: x[1], reverse=True)\n",
    "\n",
    "        return [item[0] for item in combined]\n",
    "\n",
    "        \n",
    "    def retrieve(self, query):\n",
    "        nodes_bm = self.bm25_r.retrieve(query)\n",
    "        nodes_emb = self.emb_r.retrieve(query)\n",
    "\n",
    "        dtos_bm = self.normalize_scores(nodes_bm)\n",
    "        dtos_emb = self.normalize_scores(nodes_emb)\n",
    "\n",
    "        return self.rrf_fusion(dtos_bm, dtos_emb)[:settings.fusion_top_k]"
   ]
  },
  {
   "cell_type": "code",
   "execution_count": 10,
   "metadata": {},
   "outputs": [],
   "source": [
    "fusion_r = FusionRetriever(settings=settings)"
   ]
  },
  {
   "cell_type": "code",
   "execution_count": 12,
   "metadata": {},
   "outputs": [
    {
     "name": "stdout",
     "output_type": "stream",
     "text": [
      "[(FusionDTO(score=0.954723532651644, law_number='44 Федеральный Закон', title='Статья 104', page_first=218, page_last=221, text='исключения информации, предусмотренной частью 3  настоящей статьи, из реестра недобросовестных поставщиков. (часть 10 в ред. Федерального закона  от 30.12.2020 N 539-ФЗ)\\n11. Включение в реестр недобросовестных поставщиков информации об участнике закупки, о поставщике (подрядчике, исполнителе), содержащаяся в реестре недобросовестных поставщиков информация, неисполнение действий, предусмотренных частью 9  настоящей статьи, могут быть обжалованы заинтересованным лицом в судебном порядке. (в ред. Федерального закона  от 16.04.2022 N 104-ФЗ) Глава 6. ОБЖАЛОВАНИЕ ДЕЙСТВИЙ (БЕЗДЕЙСТВИЯ) СУБЪЕКТОВ КОНТРОЛЯ (в ред. Федерального закона  от 02.07.2021 N 360-ФЗ)'), 0.010487363755156366), (FusionDTO(score=1.0, law_number='44 Федеральный Закон', title='Статья 93.1.7)', page_first=157, page_last=157, text='Статья 93. Осуществление закупки у единственного поставщика (подрядчика, исполнителя)\\n7) заключение контракта на поставку российских вооружения и военной техники, которые не имеют российских аналогов и производство которых осуществляется единственным производителем, с поставщиком таких вооружения и военной техники, включенным в реестр единственных поставщиков таких вооружения и военной техники. Порядок  ведения реестра единственных поставщиков таких вооружения и военной техники, порядок  формирования их цены устанавливаются Правительством Российской Федерации. Государственный контракт на поставку таких вооружения и военной техники заключается по цене, определяемой в соответствии с указанным порядком ее формирования;'), 0.009836065573770491), (FusionDTO(score=0.7496742195669276, law_number='44 Федеральный Закон', title='Статья 104.10', page_first=220, page_last=221, text='Статья 104. Реестр недобросовестных поставщиков (подрядчиков, исполнителей)\\n10. Правительством Российской Федерации устанавливается порядок  ведения реестра недобросовестных поставщиков, который предусматривает, в частности:\\n1)порядок  направления обращения о включении информации об участнике закупки или о поставщике (подрядчике, исполнителе) в реестр недобросовестных поставщиков, требования к  составу, содержанию, форме такого обращения;\\n2)порядок  рассмотрения федеральным органом исполнительной власти, уполномоченным на осуществление контроля в сфере закупок, обращения о включении информации об участнике закупки или о поставщике (подрядчике, исполнителе) в реестр недобросовестных поставщиков, основания для принятия решения о включении информации об участнике закупки, о поставщике (подрядчике, исполнителе) в реестр недобросовестных поставщиков либо об отказе в таком включении. Указанные основания должны в том числе предусматривать отказ во включении информации о поставщике (подрядчике, исполнителе) в реестр недобросовестных поставщиков, если надлежащее исполнение поставщиком (подрядчиком, исполнителем) условий контракта оказалось невозможным вследствие обстоятельств непреодолимой силы; (в ред. Федерального закона  от 28.04.2023 N 154-ФЗ)\\n3)порядок  направления решения о включении информации об участнике закупки, о поставщике (подрядчике, исполнителе) в реестр недобросовестных поставщиков либо решения об отказе в таком включении;\\n4)порядок  исключения информации, предусмотренной частью 3  настоящей статьи, из реестра недобросовестных поставщиков. (часть 10 в ред. Федерального закона  от 30.12.2020 N 539-ФЗ)'), 0.00725491180226059), (FusionDTO(score=0.93745060944946, law_number='44 Федеральный Закон', title='Статья 26.5.а)', page_first=51, page_last=51, text='Статья 26. Централизованные закупки\\nа) определение поставщиков (подрядчиков, исполнителей) для соответствующих заказчиков;'), 0.005067300591618703), (FusionDTO(score=0.9183182068536124, law_number='44 Федеральный Закон', title='Статья 93.10', page_first=170, page_last=170, text='Статья 93. Осуществление закупки у единственного поставщика (подрядчика, исполнителя)\\n10. В случае принятия контрольным органом в сфере закупок решения об отказе в согласовании заключения контракта с единственным поставщиком (подрядчиком, исполнителем) определение поставщика признается несостоявшимся. Заказчик вносит изменения в план-график закупок (при необходимости), осуществляет новую закупку в соответствии с настоящим Федеральным законом (при необходимости). (часть 10 введена Федеральным законом  от 27.12.2019 N 449-ФЗ)'), 0.005031880585499246), (FusionDTO(score=0.9512691874805431, law_number='44 Федеральный Закон', title='Статья 99.15.5)', page_first=209, page_last=209, text='Статья 99. Контроль в сфере закупок\\n5) получение обращения о включении информации об участнике закупки или о поставщике (подрядчике, исполнителе) в реестр недобросовестных поставщиков (подрядчиков, исполнителей). (п. 5 введен Федеральным законом  от 30.12.2020 N 539-ФЗ)'), 0.005006679934108122), (FusionDTO(score=0.9387221916233627, law_number='44 Федеральный Закон', title='Статья 93.5', page_first=168, page_last=168, text='Статья 93. Осуществление закупки у единственного поставщика (подрядчика, исполнителя)\\n5. Заключение контракта с единственным поставщиком (подрядчиком, исполнителем) в случае признания определения поставщика (подрядчика, исполнителя) несостоявшимся осуществляется в соответствии с пунктами 24  и25 части 1  настоящей статьи:'), 0.005006518355324601), (FusionDTO(score=0.888354606192677, law_number='44 Федеральный Закон', title='Статья 93.1.16)', page_first=158, page_last=158, text='Статья 93. Осуществление закупки у единственного поставщика (подрядчика, исполнителя)\\n16) заключение контракта на оказание услуг по участию в мероприятии, проводимом для нужд нескольких заказчиков, с поставщиком (подрядчиком, исполнителем), который определен заказчиком, являющимся организатором такого мероприятия, в порядке, установленном настоящим Федеральным законом;'), 0.005004814682775646), (FusionDTO(score=0.9001903781220815, law_number='44 Федеральный Закон', title='Статья 24.11', page_first=40, page_last=40, text='Статья 24. Способы определения поставщиков (подрядчиков, исполнителей) (в ред. Федерального закона  от 02.07.2021 N 360-ФЗ)\\n11. Закрытые конкурентные способы применяются в случаях:'), 0.005001057656233787), (FusionDTO(score=1.0, law_number='223 Федеральный Закон', title='Статья 8.5.1.7)', page_first=66, page_last=66, text='Статья 8. Порядок вступления в силу настоящего Федерального закона\\n7) определения поставщика (исполнителя, подрядчика) в соответствии с параграфами 2  и3\\nглавы 3  Федерального закона от 5 апреля 2013 года N 44-ФЗ \"О контрактной системе в сфере закупок товаров, работ, услуг для обеспечения государственных и муниципальных нужд\". При этом заказчики: (в ред. Федерального закона  от 02.07.2021 N 360-ФЗ)'), 0.005), (FusionDTO(score=0.9720287842141814, law_number='44 Федеральный Закон', title='Статья 104.9.2)', page_first=220, page_last=220, text='Статья 104. Реестр недобросовестных поставщиков (подрядчиков, исполнителей)\\n2) информации, подтверждающей невозможность влияния лиц, указанных в пунктах 2  и3\\nчасти 3  настоящей статьи, на деятельность участника закупки, поставщика (подрядчика, исполнителя), по состоянию на день признания участника закупки уклонившимся от заключения контракта или на день расторжения контракта. (часть 9 в ред. Федерального закона  от 30.12.2020 N 539-ФЗ)'), 0.004921664730198387), (FusionDTO(score=0.8594446706099284, law_number='44 Федеральный Закон', title='Статья 24.10.б)', page_first=39, page_last=39, text='Статья 24. Способы определения поставщиков (подрядчиков, исполнителей) (в ред. Федерального закона  от 02.07.2021 N 360-ФЗ)\\nб) закупки товаров, работ или услуг, являющихся предметом контракта, расторжение которого осуществлено заказчиком на основании части 9  или 15 статьи 95  настоящего Федерального закона. При этом такая закупка осуществляется с учетом положений части 18\\nстатьи 95  настоящего Федерального закона;'), 0.0049111124034853055), (FusionDTO(score=0.9559627864651932, law_number='44 Федеральный Закон', title='Статья 104.11', page_first=221, page_last=221, text='Статья 104. Реестр недобросовестных поставщиков (подрядчиков, исполнителей)\\n11. Включение в реестр недобросовестных поставщиков информации об участнике закупки, о поставщике (подрядчике, исполнителе), содержащаяся в реестре недобросовестных поставщиков информация, неисполнение действий, предусмотренных частью 9  настоящей статьи, могут быть обжалованы заинтересованным лицом в судебном порядке. (в ред. Федерального закона  от 16.04.2022 N 104-ФЗ) Глава 6. ОБЖАЛОВАНИЕ ДЕЙСТВИЙ (БЕЗДЕЙСТВИЯ) СУБЪЕКТОВ КОНТРОЛЯ (в ред. Федерального закона  от 02.07.2021 N 360-ФЗ)'), 0.004902373263924067), (FusionDTO(score=0.8224969467659666, law_number='44 Федеральный Закон', title='Статья 94.1.2)', page_first=176, page_last=177, text='Статья 94. Особенности исполнения контракта\\n2) оплату заказчиком поставщику (подрядчику, исполнителю) поставленного товара,  выполненной работы (ее результатов), оказанной услуги, а также отдельных этапов исполнения контракта; (в ред. Федерального закона  от 02.07.2021 N 360-ФЗ)'), 0.004768098242121546), (FusionDTO(score=0.49496978002331005, law_number='44 Федеральный Закон', title='Статья 26.1', page_first=50, page_last=50, text='Статья 26. Централизованные закупки\\n1. В целях централизации закупок в соответствии с законодательством Российской Федерации, законодательством субъектов Российской Федерации, муниципальными правовыми актами, за исключением случаев, предусмотренных частями 2  и3 настоящей статьи, могут быть созданы государственный орган, муниципальный орган, казенное учреждение, уполномоченные на определение поставщиков (подрядчиков, исполнителей) для заказчиков, или несколько таких органов, казенных учреждений либо полномочия на определение поставщиков (подрядчиков, исполнителей) для соответствующих заказчиков могут быть возложены на один такой государственный орган, муниципальный орган, одно такое казенное учреждение или несколько государственных органов, муниципальных органов, казенных учреждений из числа существующих. Такие уполномоченные органы, уполномоченные учреждения осуществляют полномочия на определение поставщиков (подрядчиков, исполнителей) для заказчиков, установленные решениями о создании таких уполномоченных органов, уполномоченных учреждений или о наделении их указанными полномочиями. Не допускается возлагать на такие уполномоченные органы, уполномоченные учреждения полномочия на обоснование закупок, определение условий контракта, в том числе на определение начальной (максимальной) цены контракта, и подписание контракта. Контракты подписываются заказчиками, для которых были определены поставщики (подрядчики, исполнители).'), 0.0046403416877185315), (FusionDTO(score=0.47645973021398486, law_number='44 Федеральный Закон', title='Статья 31', page_first=58, page_last=63, text='02.07.2021 N\\n360-ФЗ )\\n12. Решение об отстранении участника закупки от участия в определении поставщика (подрядчика, исполнителя) или отказ от заключения контракта с победителем определения поставщика (подрядчика, исполнителя) могут быть обжалованы таким участником или таким победителем в установленном настоящим Федеральным законом порядке .'), 0.00439808981735986), (FusionDTO(score=0.7086963289350798, law_number='44 Федеральный Закон', title='Статья 24.11.3)', page_first=40, page_last=40, text='Статья 24. Способы определения поставщиков (подрядчиков, исполнителей) (в ред. Федерального закона  от 02.07.2021 N 360-ФЗ)\\n3) закупок услуг по страхованию, транспортировке, охране:'), 0.004168801934912235), (FusionDTO(score=0.4538423922392549, law_number='44 Федеральный Закон', title='Статья 31.12', page_first=63, page_last=63, text='Статья 31. Требования к участникам закупки\\n12. Решение об отстранении участника закупки от участия в определении поставщика (подрядчика, исполнителя) или отказ от заключения контракта с победителем определения поставщика (подрядчика, исполнителя) могут быть обжалованы таким участником или таким победителем в установленном настоящим Федеральным законом порядке .'), 0.004125839929447771), (FusionDTO(score=0.6898536842357336, law_number='44 Федеральный Закон', title='Статья 34.25', page_first=75, page_last=75, text='Статья 34. Контракт\\n25. В случае непредоставления заказчику указанной в части 23  настоящей статьи информации поставщиком (подрядчиком, исполнителем) информация об этом размещается в единой информационной системе. Непредоставление указанной информации поставщиком (подрядчиком, исполнителем) не влечет за собой недействительность заключенного контракта по данному основанию.'), 0.004118529458123783), (FusionDTO(score=0.4308732771134172, law_number='223 Федеральный Закон', title='Статья 5.6', page_first=59, page_last=59, text='Статья 5. Реестр недобросовестных поставщиков\\n6. Включение сведений об участнике закупки, уклонившемся от заключения договора, о поставщике (исполнителе, подрядчике), с которым договор расторгнут в связи с существенным нарушением им договора, в реестр недобросовестных поставщиков или содержание таких сведений в реестре недобросовестных поставщиков может быть обжаловано заинтересованным лицом в судебном порядке.'), 0.003858566660717169), (FusionDTO(score=0.5949292368112263, law_number='44 Федеральный Закон', title='Статья 93.5.а)', page_first=168, page_last=169, text='Статья 93. Осуществление закупки у единственного поставщика (подрядчика, исполнителя)\\nа) единственный поставщик (подрядчик, исполнитель) в случаях, предусмотренных статьей\\n51 настоящего Федерального закона для формирования, размещения информации и документов на электронной площадке, специализированной электронной площадке, формирует и размещает  такие информацию и документы в единой информационной системе (если иное не предусмотрено в соответствии с настоящим Федеральным законом);'), 0.0036056317382498564), (FusionDTO(score=0.580810124763524, law_number='44 Федеральный Закон', title='Статья 26.5.2)', page_first=51, page_last=52, text='Статья 26. Централизованные закупки\\n2) наделение уполномоченного органа, уполномоченного учреждения или несколько уполномоченных органов, уполномоченных учреждений полномочиями на определение поставщиков (подрядчиков, исполнителей) для соответствующих заказчиков;'), 0.003574216152390917), (FusionDTO(score=0.5509051940898968, law_number='44 Федеральный Закон', title='Статья 24.10.в)', page_first=39, page_last=39, text='Статья 24. Способы определения поставщиков (подрядчиков, исполнителей) (в ред. Федерального закона  от 02.07.2021 N 360-ФЗ)\\nв) закупок заказчиком, осуществляющим деятельность на территории иностранного государства;'), 0.003443157463061855), (FusionDTO(score=0.4865741516798774, law_number='44 Федеральный Закон', title='Статья 26.4', page_first=51, page_last=51, text='Статья 26. Централизованные закупки\\n4. Уполномоченные органы, уполномоченные учреждения, на которые возложены полномочия на определение поставщиков (подрядчиков, исполнителей) для обеспечения нужд субъектов Российской Федерации, вправе осуществлять полномочия уполномоченных органов, уполномоченных учреждений муниципальных образований на определение поставщиков (подрядчиков, исполнителей) на основании соглашений между субъектами Российской Федерации и находящимися на их территориях муниципальными образованиями.'), 0.003089359693205571), (FusionDTO(score=0.2838714041900138, law_number='44 Федеральный Закон', title='Статья 95', page_first=181, page_last=195, text='подписывает его усиленной электронной подписью лица, имеющего право действовать от имени заказчика, и размещает такое решение в единой информационной системе. В случаях, предусмотренных частью 5 статьи 103  настоящего Федерального закона, такое решение не размещается на официальном сайте;\\n2) решение об одностороннем отказе от исполнения контракта не позднее одного часа с момента его размещения в единой информационной системе в соответствии с пунктом 1\\nнастоящей части автоматически с использованием единой информационной системы направляется поставщику (подрядчику, исполнителю). Датой поступления поставщику (подрядчику, исполнителю) решения об одностороннем отказе от исполнения контракта считается дата размещения в соответствии с настоящим пунктом такого решения в единой информационной системе в соответствии с часовой зоной, в которой расположен поставщик (подрядчик, исполнитель);\\n3) поступление решения об одностороннем отказе от исполнения контракта в соответствии спунктом 2  настоящей части считается надлежащим уведомлением поставщика (подрядчика, исполнителя) об одностороннем отказе от исполнения контракта. (часть 12.1 введена Федеральным законом  от 02.07.2021 N 360-ФЗ)\\n12.2. В случае принятия заказчиком предусмотренного частью 9  настоящей статьи решения об одностороннем отказе от исполнения контракта, заключенного по результатам проведения закрытого конкурса, закрытого аукциона, при осуществлении закупок, предусмотренных статьей\\n93 (за исключением закупки, осуществляемой в соответствии с частью 12 статьи 93  настоящего Федерального закона), статьей 111  (в случае определения в соответствии с частью 1 статьи 111\\nнастоящего Федерального закона особенностей, предусматривающих неразмещение информации и документов в единой информационной системе, на официальном сайте при определении поставщика (подрядчика, исполнителя) и статьей 111.1  настоящего Федерального закона, такое решение передается лицу, имеющему право действовать от имени поставщика (подрядчика, исполнителя), лично под расписку или направляется поставщику (подрядчику, исполнителю) с соблюдением требований законодательства Российской Федерации о государственной тайне по адресу поставщика (подрядчика, исполнителя), указанному в контракте. Выполнение заказчиком требований настоящей части считается надлежащим уведомлением поставщика (подрядчика, исполнителя) об одностороннем отказе от исполнения контракта. Датой такого надлежащего уведомления считается: (в ред. Федерального закона  от 25.12.2023 N 624-ФЗ)\\n1) дата, указанная лицом, имеющим право'), 0.002504747684029533), (FusionDTO(score=0.27885877307087925, law_number='44 Федеральный Закон', title='Статья 93.8', page_first=170, page_last=170, text='Статья 93. Осуществление закупки у единственного поставщика (подрядчика, исполнителя)\\n8. Контрольный орган в сфере закупок обязан рассмотреть обращение о согласовании заключения контракта с единственным поставщиком (подрядчиком, исполнителем) в течение восьми рабочих дней со дня, следующего за днем поступления обращения о согласовании заключения контракта с единственным поставщиком (подрядчиком, исполнителем). По результатам рассмотрения такого обращения и проведения внеплановой проверки контрольный орган в сфере закупок принимает решение о согласовании заключения контракта с единственным поставщиком (подрядчиком, исполнителем) либо об отказе в таком согласовании. (часть 8 введена Федеральным законом  от 27.12.2019 N 449-ФЗ; в ред. Федерального закона  от\\n28.04.2023 N 154-ФЗ)'), 0.002424858896268515), (FusionDTO(score=0.24894457190460267, law_number='44 Федеральный Закон', title='Статья 95.5', page_first=187, page_last=187, text='Статья 95. Изменение, расторжение контракта\\n5. При исполнении контракта не допускается перемена поставщика (подрядчика, исполнителя), за исключением случая, если новый поставщик (подрядчик, исполнитель) является правопреемником поставщика (подрядчика, исполнителя) по такому контракту вследствие реорганизации юридического лица в форме преобразования, слияния или присоединения.'), 0.0021338106163251657), (FusionDTO(score=0.3234201010560598, law_number='44 Федеральный Закон', title='Статья 95.15.б)', page_first=190, page_last=190, text='Статья 95. Изменение, расторжение контракта\\nб) при определении поставщика (подрядчика, исполнителя) поставщик (подрядчик, исполнитель) представил недостоверную информацию о своем соответствии и (или) соответствии поставляемого товара требованиям, указанным в подпункте \"а\"  настоящего пункта, что позволило ему стать победителем определения поставщика (подрядчика, исполнителя); (п. 1 в ред. Федерального закона  от 02.07.2021 N 360-ФЗ)'), 0.00208658129713587), (FusionDTO(score=0.23706610124610292, law_number='44 Федеральный Закон', title='Статья 93', page_first=154, page_last=176, text='уполномоченным органом, уполномоченным учреждением решения о согласовании заключения контракта с единственным поставщиком (подрядчиком, исполнителем). Заключение контракта до получения такого решения не допускается. (часть 9 введена Федеральным законом  от 27.12.2019 N 449-ФЗ)\\n10. В случае принятия контрольным органом в сфере закупок решения об отказе в согласовании заключения контракта с единственным поставщиком (подрядчиком, исполнителем) определение поставщика признается несостоявшимся. Заказчик вносит изменения в план-график закупок (при необходимости), осуществляет новую закупку в соответствии с настоящим Федеральным законом (при необходимости). (часть 10 введена Федеральным законом  от 27.12.2019 N 449-ФЗ)\\n11. Правительством Российской Федерации устанавливаются правила  согласования контрольным органом в сфере закупок заключения контракта с единственным поставщиком (подрядчиком, исполнителем) в случае, предусмотренном пунктом 4 части 5  настоящей статьи,  которые предусматривают, в частности:\\n1) порядок направления обращения о согласовании заключения контракта с единственным поставщиком (подрядчиком, исполнителем), требования к составу, содержанию, форме такого обращения;\\n2) порядок рассмотрения контрольным органом в сфере закупок обращения о согласовании заключения контракта с единственным поставщиком (подрядчиком, исполнителем), основания для принятия решения о согласовании заключения контракта с единственным поставщиком (подрядчиком, исполнителем) либо об отказе в таком согласовании;\\n3) порядок направления решения о согласовании заключения контракта с единственным поставщиком (подрядчиком, исполнителем) либо об отказе в таком согласовании. (часть 11 введена Федеральным законом  от 27.12.2019 N 449-ФЗ)\\n12. В случаях, предусмотренных пунктами 4  -5.2 части 1  настоящей статьи, в электронной форме с использованием электронной площадки может осуществляться на сумму, не превышающую пяти миллионов рублей, закупка, по результатам которой заключается контракт на поставку товара или контракт, предметом которого является предоставление права на использование программы для электронной вычислительной машины и (или) базы данных (включая обновления к ним и дополнительные функциональные возможности), в том числе путем предоставления удаленного доступа к ним через информационно-телекоммуникационные сети, в том числе через информационно-телекоммуникационную сеть \"Интернет\" (далее в настоящей части также - товар). Годовой объем закупок, осуществляемых в таком порядке, не должен'), 0.002003375503488194), (FusionDTO(score=0.1608344463278911, law_number='44 Федеральный Закон', title='Статья 93.11.2)', page_first=171, page_last=171, text='Статья 93. Осуществление закупки у единственного поставщика (подрядчика, исполнителя)\\n2) порядок рассмотрения контрольным органом в сфере закупок обращения о согласовании заключения контракта с единственным поставщиком (подрядчиком, исполнителем), основания для принятия решения о согласовании заключения контракта с единственным поставщиком (подрядчиком, исполнителем) либо об отказе в таком согласовании;'), 0.0013402870527324257), (FusionDTO(score=0.15538885871508565, law_number='44 Федеральный Закон', title='Статья 104.7', page_first=220, page_last=220, text='Статья 104. Реестр недобросовестных поставщиков (подрядчиков, исполнителей)\\n7. В течение пяти рабочих дней с даты поступления обращения, указанного в части 4\\nнастоящей статьи, федеральный орган исполнительной власти, уполномоченный на осуществление контроля в сфере закупок, осуществляет проверку содержащихся в таком обращении фактов, свидетельствующих об уклонении участника закупки от заключения контракта, о расторжении контракта по решению суда в связи с существенным нарушением поставщиком (подрядчиком, исполнителем) условий контракта, об одностороннем отказе заказчика от исполнения контракта в связи с существенными нарушениями поставщиком (подрядчиком, исполнителем) условий контракта или об отсутствии оснований для одностороннего отказа поставщика (подрядчика, исполнителя) от исполнения контракта. По результатам такой проверки принимается решение о включении в реестр недобросовестных поставщиков соответствующей информации или решение об отказе в ее включении в реестр недобросовестных поставщиков. В случае принятия решения о включении в реестр недобросовестных поставщиков информации о лицах, указанных в части 2  настоящей статьи, такая информация включается в этот реестр не позднее трех рабочих дней с даты принятия данного решения. (в ред. Федеральных законов от 30.12.2020 N 539-ФЗ , от 16.04.2022 N 104-ФЗ )'), 0.0012771687017678272), (FusionDTO(score=0.1362262816188707, law_number='44 Федеральный Закон', title='Статья 95.20.1.1)', page_first=193, page_last=193, text='Статья 95. Изменение, расторжение контракта\\n1) поставщик (подрядчик, исполнитель) с использованием единой информационной системы формирует решение об одностороннем отказе от исполнения контракта, подписывает его усиленной электронной подписью лица, имеющего право действовать от имени поставщика (подрядчика, исполнителя), и размещает такое решение в единой информационной системе. В случаях, предусмотренных частью 5 статьи 103  настоящего Федерального закона, такое решение не размещается на официальном сайте;'), 0.001104537418531384), (FusionDTO(score=0.11273066047126541, law_number='44 Федеральный Закон', title='Статья 93.11.1)', page_first=171, page_last=171, text='Статья 93. Осуществление закупки у единственного поставщика (подрядчика, исполнителя)\\n1) порядок направления обращения о согласовании заключения контракта с единственным поставщиком (подрядчиком, исполнителем), требования к составу, содержанию, форме такого обращения;'), 0.0009018452837701234), (FusionDTO(score=0.09128423787093644, law_number='44 Федеральный Закон', title='Статья 34.27', page_first=75, page_last=75, text='Статья 34. Контракт\\n27. В контракт включается обязательное условие о сроках возврата заказчиком поставщику (подрядчику, исполнителю) денежных средств, внесенных в качестве обеспечения исполнения контракта (если такая форма обеспечения исполнения контракта применяется поставщиком (подрядчиком, исполнителем), в том числе части этих денежных средств в случае уменьшения размера обеспечения исполнения контракта в соответствии с частями 7 ,7.1 и7.2 статьи 96\\nнастоящего Федерального закона. При этом срок возврата заказчиком поставщику (подрядчику, исполнителю) таких денежных средств не должен превышать тридцать дней с даты исполнения поставщиком (подрядчиком, исполнителем) обязательств, предусмотренных контрактом, а в случае установления заказчиком ограничения, предусмотренного частью 3 статьи 30  настоящего Федерального закона, такой срок не должен превышать пятнадцать дней с даты исполнения поставщиком (подрядчиком, исполнителем) обязательств, предусмотренных контрактом. (в ред. Федеральных законов от 27.12.2018 N 502-ФЗ , от 01.05.2019 N 71-ФЗ )'), 0.0007206650358231824), (FusionDTO(score=0.05974297073871269, law_number='44 Федеральный Закон', title='Статья 27.2', page_first=53, page_last=53, text='Статья 27. Участие в определении поставщиков (подрядчиков, исполнителей)\\n2. В случае, если заказчиком принято решение об ограничении участия в определении поставщика (подрядчика, исполнителя), информация о таком ограничении с обоснованием его причин должна быть указана в извещении об осуществлении закупки.'), 0.00046552964211983913), (FusionDTO(score=0.05030104006200555, law_number='44 Федеральный Закон', title='Статья 26', page_first=50, page_last=53, text='Статья 26. Централизованные закупки\\n1. В целях централизации закупок в соответствии с законодательством Российской Федерации, законодательством субъектов Российской Федерации, муниципальными правовыми актами, за исключением случаев, предусмотренных частями 2  и3 настоящей статьи, могут быть созданы государственный орган, муниципальный орган, казенное учреждение, уполномоченные на определение поставщиков (подрядчиков, исполнителей) для заказчиков, или несколько таких органов, казенных учреждений либо полномочия на определение поставщиков (подрядчиков, исполнителей) для соответствующих заказчиков могут быть возложены на один такой государственный орган, муниципальный орган, одно такое казенное учреждение или несколько государственных органов, муниципальных органов, казенных учреждений из числа существующих. Такие уполномоченные органы, уполномоченные учреждения осуществляют полномочия на определение поставщиков (подрядчиков, исполнителей) для заказчиков, установленные решениями о создании таких уполномоченных органов, уполномоченных учреждений или о наделении их указанными полномочиями. Не допускается возлагать на такие уполномоченные органы, уполномоченные учреждения полномочия на обоснование закупок, определение условий контракта, в том числе на определение начальной (максимальной) цены контракта, и подписание контракта. Контракты подписываются заказчиками, для которых были определены поставщики (подрядчики, исполнители).\\n2. Президентом Российской Федерации, Правительством Российской Федерации полномочия на определение поставщиков (подрядчиков, исполнителей) для нескольких федеральных органов исполнительной власти, федеральных казенных и бюджетных учреждений, федеральных государственных унитарных предприятий, а также полномочия  на планирование закупок, определение поставщиков (подрядчиков, исполнителей), заключение контрактов, их исполнение, в том числе на приемку поставленных товаров, выполненных работ (их результатов), оказанных услуг, обеспечение их оплаты, для нескольких федеральных органов исполнительной власти, федеральных казенных учреждений и бюджетных учреждений,  федеральных государственных унитарных предприятий могут быть возложены на федеральный орган исполнительной власти или федеральное казенное учреждение либо несколько федеральных органов исполнительной власти или федеральных казенных учреждений. (в ред. Федеральных законов от 03.07.2016 N 321-ФЗ , от 02.07.2021 N 360-ФЗ )\\n3. Высшим исполнительным органом государственной власти субъекта Российской Федерации, местной администрацией полномочия на определение поставщиков (подрядчиков, исполнителей) для нескольких органов исполнительной власти субъекта Российской Федерации, казенных, бюджетных учреждений и государственных унитарных предприятий субъекта Российской'), 0.0003869310774000427), (FusionDTO(score=0.004416542803741208, law_number='44 Федеральный Закон', title='Статья 48.18', page_first=117, page_last=117, text='Статья 48. Проведение электронного конкурса (в ред. Федерального закона  от 02.07.2021 N 360-ФЗ)\\n18. Участник закупки, принимавший участие в закупке, после размещения в единой информационной системе протокола подведения итогов определения поставщика (подрядчика, исполнителя), но не позднее даты заключения контракта вправе направить оператору электронной площадки с использованием электронной площадки запрос о даче разъяснений информации, содержащейся в таком протоколе в отношении заявки такого участника закупки. Не позднее одного часа с момента поступления такого запроса оператор электронной площадки направляет его с использованием электронной площадки заказчику. Не позднее двух рабочих дней, следующих за днем поступления заказчику запроса о даче разъяснений информации, содержащейся в протоколе подведения итогов определения поставщика (подрядчика, исполнителя), заказчик направляет соответствующие разъяснения оператору электронной площадки. Не позднее одного часа с момента поступления таких разъяснений они направляются оператором электронной площадки с использованием электронной площадки участнику закупки, направившему запрос о даче разъяснений информации, содержащейся в протоколе подведения итогов определения поставщика (подрядчика, исполнителя).'), 3.354336306638892e-05), (FusionDTO(score=0.0, law_number='223 Федеральный Закон', title='Статья 5', page_first=58, page_last=59, text='Статья 5. Реестр недобросовестных поставщиков\\n1. Ведение реестра недобросовестных поставщиков осуществляется федеральным органом исполнительной власти, уполномоченным Правительством Российской Федерации, в единой информационной системе. (в ред. Федерального закона  от 28.12.2013 N 396-ФЗ)\\n2. В реестр недобросовестных поставщиков включаются сведения об участниках закупки, уклонившихся от заключения договоров, а также о поставщиках (исполнителях, подрядчиках), договоры с которыми расторгнуты по решению суда или в случае одностороннего отказа заказчика, в отношении которого иностранными государствами , совершающими недружественные действия в отношении Российской Федерации, граждан Российской Федерации или российских юридических лиц, введены политические или экономические санкции и (или) в отношении которого иностранными государствами, государственными объединениями и (или) союзами и (или) государственными (межгосударственными) учреждениями иностранных государств или государственных объединений и (или) союзов введены меры ограничительного характера, от исполнения договора в связи с существенным нарушением такими поставщиками (исполнителями, подрядчиками) договоров. (в ред. Федеральных законов от 16.04.2022 N 104-ФЗ , от 28.06.2022 N 231-ФЗ )\\n3.Перечень  сведений, включаемых в реестр недобросовестных поставщиков, порядок направления заказчиками сведений о недобросовестных участниках закупки, поставщиках (исполнителях, подрядчиках) в федеральный орган исполнительной власти, уполномоченный на ведение реестра недобросовестных поставщиков, порядок  ведения реестра недобросовестных поставщиков, требования  к технологическим, программным, лингвистическим, правовым и организационным средствам обеспечения ведения реестра недобросовестных поставщиков устанавливаются Правительством Российской Федерации. \\n4. Сведения, содержащиеся в реестре недобросовестных поставщиков, должны быть доступны для ознакомления в единой информационной системе без взимания платы. (в ред. Федерального закона  от 28.12.2013 N 396-ФЗ)\\n5. Сведения, содержащиеся в реестре недобросовестных поставщиков, по истечении двух лет со дня их внесения в реестр недобросовестных поставщиков исключаются из этого реестра.\\n6. Включение сведений об участнике закупки, уклонившемся от заключения договора, о поставщике (исполнителе, подрядчике), с которым договор расторгнут в связи с существенным нарушением им договора, в реестр недобросовестных поставщиков или содержание таких сведений в реестре недобросовестных поставщиков может быть обжаловано заинтересованным лицом в судебном порядке.'), 0.0), (FusionDTO(score=0.0, law_number='44 Федеральный Закон', title='Статья 24.10.а)', page_first=39, page_last=39, text='Статья 24. Способы определения поставщиков (подрядчиков, исполнителей) (в ред. Федерального закона  от 02.07.2021 N 360-ФЗ)\\nа) закупки, по результатам которой заключается контракт на поставку товаров, необходимых для нормального жизнеобеспечения граждан; (пп. \"а\" в ред. Федерального закона  от 16.04.2022 N 104-ФЗ)'), 0.0)]\n"
     ]
    }
   ],
   "source": [
    "a = fusion_r.retrieve('кто такой поставщик')"
   ]
  },
  {
   "cell_type": "code",
   "execution_count": 15,
   "metadata": {},
   "outputs": [
    {
     "data": {
      "text/plain": [
       "[FusionDTO(score=0.954723532651644, law_number='44 Федеральный Закон', title='Статья 104', page_first=218, page_last=221, text='исключения информации, предусмотренной частью 3  настоящей статьи, из реестра недобросовестных поставщиков. (часть 10 в ред. Федерального закона  от 30.12.2020 N 539-ФЗ)\\n11. Включение в реестр недобросовестных поставщиков информации об участнике закупки, о поставщике (подрядчике, исполнителе), содержащаяся в реестре недобросовестных поставщиков информация, неисполнение действий, предусмотренных частью 9  настоящей статьи, могут быть обжалованы заинтересованным лицом в судебном порядке. (в ред. Федерального закона  от 16.04.2022 N 104-ФЗ) Глава 6. ОБЖАЛОВАНИЕ ДЕЙСТВИЙ (БЕЗДЕЙСТВИЯ) СУБЪЕКТОВ КОНТРОЛЯ (в ред. Федерального закона  от 02.07.2021 N 360-ФЗ)'),\n",
       " FusionDTO(score=1.0, law_number='44 Федеральный Закон', title='Статья 93.1.7)', page_first=157, page_last=157, text='Статья 93. Осуществление закупки у единственного поставщика (подрядчика, исполнителя)\\n7) заключение контракта на поставку российских вооружения и военной техники, которые не имеют российских аналогов и производство которых осуществляется единственным производителем, с поставщиком таких вооружения и военной техники, включенным в реестр единственных поставщиков таких вооружения и военной техники. Порядок  ведения реестра единственных поставщиков таких вооружения и военной техники, порядок  формирования их цены устанавливаются Правительством Российской Федерации. Государственный контракт на поставку таких вооружения и военной техники заключается по цене, определяемой в соответствии с указанным порядком ее формирования;'),\n",
       " FusionDTO(score=0.7496742195669276, law_number='44 Федеральный Закон', title='Статья 104.10', page_first=220, page_last=221, text='Статья 104. Реестр недобросовестных поставщиков (подрядчиков, исполнителей)\\n10. Правительством Российской Федерации устанавливается порядок  ведения реестра недобросовестных поставщиков, который предусматривает, в частности:\\n1)порядок  направления обращения о включении информации об участнике закупки или о поставщике (подрядчике, исполнителе) в реестр недобросовестных поставщиков, требования к  составу, содержанию, форме такого обращения;\\n2)порядок  рассмотрения федеральным органом исполнительной власти, уполномоченным на осуществление контроля в сфере закупок, обращения о включении информации об участнике закупки или о поставщике (подрядчике, исполнителе) в реестр недобросовестных поставщиков, основания для принятия решения о включении информации об участнике закупки, о поставщике (подрядчике, исполнителе) в реестр недобросовестных поставщиков либо об отказе в таком включении. Указанные основания должны в том числе предусматривать отказ во включении информации о поставщике (подрядчике, исполнителе) в реестр недобросовестных поставщиков, если надлежащее исполнение поставщиком (подрядчиком, исполнителем) условий контракта оказалось невозможным вследствие обстоятельств непреодолимой силы; (в ред. Федерального закона  от 28.04.2023 N 154-ФЗ)\\n3)порядок  направления решения о включении информации об участнике закупки, о поставщике (подрядчике, исполнителе) в реестр недобросовестных поставщиков либо решения об отказе в таком включении;\\n4)порядок  исключения информации, предусмотренной частью 3  настоящей статьи, из реестра недобросовестных поставщиков. (часть 10 в ред. Федерального закона  от 30.12.2020 N 539-ФЗ)'),\n",
       " FusionDTO(score=0.93745060944946, law_number='44 Федеральный Закон', title='Статья 26.5.а)', page_first=51, page_last=51, text='Статья 26. Централизованные закупки\\nа) определение поставщиков (подрядчиков, исполнителей) для соответствующих заказчиков;'),\n",
       " FusionDTO(score=0.9183182068536124, law_number='44 Федеральный Закон', title='Статья 93.10', page_first=170, page_last=170, text='Статья 93. Осуществление закупки у единственного поставщика (подрядчика, исполнителя)\\n10. В случае принятия контрольным органом в сфере закупок решения об отказе в согласовании заключения контракта с единственным поставщиком (подрядчиком, исполнителем) определение поставщика признается несостоявшимся. Заказчик вносит изменения в план-график закупок (при необходимости), осуществляет новую закупку в соответствии с настоящим Федеральным законом (при необходимости). (часть 10 введена Федеральным законом  от 27.12.2019 N 449-ФЗ)'),\n",
       " FusionDTO(score=0.9512691874805431, law_number='44 Федеральный Закон', title='Статья 99.15.5)', page_first=209, page_last=209, text='Статья 99. Контроль в сфере закупок\\n5) получение обращения о включении информации об участнике закупки или о поставщике (подрядчике, исполнителе) в реестр недобросовестных поставщиков (подрядчиков, исполнителей). (п. 5 введен Федеральным законом  от 30.12.2020 N 539-ФЗ)'),\n",
       " FusionDTO(score=0.9387221916233627, law_number='44 Федеральный Закон', title='Статья 93.5', page_first=168, page_last=168, text='Статья 93. Осуществление закупки у единственного поставщика (подрядчика, исполнителя)\\n5. Заключение контракта с единственным поставщиком (подрядчиком, исполнителем) в случае признания определения поставщика (подрядчика, исполнителя) несостоявшимся осуществляется в соответствии с пунктами 24  и25 части 1  настоящей статьи:'),\n",
       " FusionDTO(score=0.888354606192677, law_number='44 Федеральный Закон', title='Статья 93.1.16)', page_first=158, page_last=158, text='Статья 93. Осуществление закупки у единственного поставщика (подрядчика, исполнителя)\\n16) заключение контракта на оказание услуг по участию в мероприятии, проводимом для нужд нескольких заказчиков, с поставщиком (подрядчиком, исполнителем), который определен заказчиком, являющимся организатором такого мероприятия, в порядке, установленном настоящим Федеральным законом;'),\n",
       " FusionDTO(score=0.9001903781220815, law_number='44 Федеральный Закон', title='Статья 24.11', page_first=40, page_last=40, text='Статья 24. Способы определения поставщиков (подрядчиков, исполнителей) (в ред. Федерального закона  от 02.07.2021 N 360-ФЗ)\\n11. Закрытые конкурентные способы применяются в случаях:'),\n",
       " FusionDTO(score=1.0, law_number='223 Федеральный Закон', title='Статья 8.5.1.7)', page_first=66, page_last=66, text='Статья 8. Порядок вступления в силу настоящего Федерального закона\\n7) определения поставщика (исполнителя, подрядчика) в соответствии с параграфами 2  и3\\nглавы 3  Федерального закона от 5 апреля 2013 года N 44-ФЗ \"О контрактной системе в сфере закупок товаров, работ, услуг для обеспечения государственных и муниципальных нужд\". При этом заказчики: (в ред. Федерального закона  от 02.07.2021 N 360-ФЗ)')]"
      ]
     },
     "execution_count": 15,
     "metadata": {},
     "output_type": "execute_result"
    }
   ],
   "source": [
    "a"
   ]
  },
  {
   "cell_type": "code",
   "execution_count": null,
   "metadata": {},
   "outputs": [],
   "source": [
    "class Prompt:\n",
    "    generation_prompt = \"\"\"\n",
    "        Ты ассистент поддержки в области государственных закупок по 44 и 223 Федеральным Законам.\n",
    "        Твоя задача - ответить по предоставленным контекстам на вопрос пользователя. В случае, если в контексте недостаточно информации, попробуй найти ответ в своих знаниях.\n",
    "        В том случае если твоих знаний и контектса не хватает для ответа ты должен вывести - Я не владею нужной информацией, обратитесь к консультанту.\n",
    "\n",
    "        Пример1:\n",
    "        Вопрос: Какие действия заказчик обязан предпринять перед проведением конкурса, и какой минимальный срок необходимо соблюдать?\n",
    "        Ответ: Заказчик обязан разместить в единой информационной системе извещение о проведении конкурса и документацию о закупке. Это должно быть сделано не менее чем за пятнадцать дней до даты окончания срока подачи заявок на участие в конкурсе.\n",
    "\n",
    "        Пример2:\n",
    "        Вопрос: Какие требования предъявляются к электронным документам, передаваемым из корпоративных информационных систем в единую информационную систему?\n",
    "        Ответ: Электронные документы, передаваемые из корпоративных информационных систем в единую информационную систему, должны быть подписаны электронной подписью.\n",
    "\n",
    "        Вопрос: {question}\n",
    "    \"\"\""
   ]
  },
  {
   "cell_type": "code",
   "execution_count": 19,
   "metadata": {},
   "outputs": [],
   "source": [
    "few_shot = \"\"\"\n",
    "    Закон: {law}\n",
    "    Номер статьи: {title}\n",
    "    Страницы закона: {page_first} - {page_last}\n",
    "    Контекст: {context}\n",
    "\"\"\""
   ]
  },
  {
   "cell_type": "code",
   "execution_count": 20,
   "metadata": {},
   "outputs": [],
   "source": [
    "prompt = Prompt.generation_prompt"
   ]
  },
  {
   "cell_type": "code",
   "execution_count": 21,
   "metadata": {},
   "outputs": [],
   "source": [
    "few_shot_prompts = [few_shot.format(\n",
    "    law=elem.law_number, title=elem.title, page_first=elem.page_first, page_last=elem.page_last, context=elem.text\n",
    "    ) for elem in a]"
   ]
  },
  {
   "cell_type": "code",
   "execution_count": 24,
   "metadata": {},
   "outputs": [
    {
     "name": "stdout",
     "output_type": "stream",
     "text": [
      "\n",
      "    Закон: 44 Федеральный Закон\n",
      "    Номер статьи: Статья 104\n",
      "    Страницы закона: 218 - 221\n",
      "    Контекст: исключения информации, предусмотренной частью 3  настоящей статьи, из реестра недобросовестных поставщиков. (часть 10 в ред. Федерального закона  от 30.12.2020 N 539-ФЗ)\n",
      "11. Включение в реестр недобросовестных поставщиков информации об участнике закупки, о поставщике (подрядчике, исполнителе), содержащаяся в реестре недобросовестных поставщиков информация, неисполнение действий, предусмотренных частью 9  настоящей статьи, могут быть обжалованы заинтересованным лицом в судебном порядке. (в ред. Федерального закона  от 16.04.2022 N 104-ФЗ) Глава 6. ОБЖАЛОВАНИЕ ДЕЙСТВИЙ (БЕЗДЕЙСТВИЯ) СУБЪЕКТОВ КОНТРОЛЯ (в ред. Федерального закона  от 02.07.2021 N 360-ФЗ)\n",
      "\n",
      "\n",
      "    Закон: 44 Федеральный Закон\n",
      "    Номер статьи: Статья 93.1.7)\n",
      "    Страницы закона: 157 - 157\n",
      "    Контекст: Статья 93. Осуществление закупки у единственного поставщика (подрядчика, исполнителя)\n",
      "7) заключение контракта на поставку российских вооружения и военной техники, которые не имеют российских аналогов и производство которых осуществляется единственным производителем, с поставщиком таких вооружения и военной техники, включенным в реестр единственных поставщиков таких вооружения и военной техники. Порядок  ведения реестра единственных поставщиков таких вооружения и военной техники, порядок  формирования их цены устанавливаются Правительством Российской Федерации. Государственный контракт на поставку таких вооружения и военной техники заключается по цене, определяемой в соответствии с указанным порядком ее формирования;\n",
      "\n",
      "\n",
      "    Закон: 44 Федеральный Закон\n",
      "    Номер статьи: Статья 104.10\n",
      "    Страницы закона: 220 - 221\n",
      "    Контекст: Статья 104. Реестр недобросовестных поставщиков (подрядчиков, исполнителей)\n",
      "10. Правительством Российской Федерации устанавливается порядок  ведения реестра недобросовестных поставщиков, который предусматривает, в частности:\n",
      "1)порядок  направления обращения о включении информации об участнике закупки или о поставщике (подрядчике, исполнителе) в реестр недобросовестных поставщиков, требования к  составу, содержанию, форме такого обращения;\n",
      "2)порядок  рассмотрения федеральным органом исполнительной власти, уполномоченным на осуществление контроля в сфере закупок, обращения о включении информации об участнике закупки или о поставщике (подрядчике, исполнителе) в реестр недобросовестных поставщиков, основания для принятия решения о включении информации об участнике закупки, о поставщике (подрядчике, исполнителе) в реестр недобросовестных поставщиков либо об отказе в таком включении. Указанные основания должны в том числе предусматривать отказ во включении информации о поставщике (подрядчике, исполнителе) в реестр недобросовестных поставщиков, если надлежащее исполнение поставщиком (подрядчиком, исполнителем) условий контракта оказалось невозможным вследствие обстоятельств непреодолимой силы; (в ред. Федерального закона  от 28.04.2023 N 154-ФЗ)\n",
      "3)порядок  направления решения о включении информации об участнике закупки, о поставщике (подрядчике, исполнителе) в реестр недобросовестных поставщиков либо решения об отказе в таком включении;\n",
      "4)порядок  исключения информации, предусмотренной частью 3  настоящей статьи, из реестра недобросовестных поставщиков. (часть 10 в ред. Федерального закона  от 30.12.2020 N 539-ФЗ)\n",
      "\n",
      "\n",
      "    Закон: 44 Федеральный Закон\n",
      "    Номер статьи: Статья 26.5.а)\n",
      "    Страницы закона: 51 - 51\n",
      "    Контекст: Статья 26. Централизованные закупки\n",
      "а) определение поставщиков (подрядчиков, исполнителей) для соответствующих заказчиков;\n",
      "\n",
      "\n",
      "    Закон: 44 Федеральный Закон\n",
      "    Номер статьи: Статья 93.10\n",
      "    Страницы закона: 170 - 170\n",
      "    Контекст: Статья 93. Осуществление закупки у единственного поставщика (подрядчика, исполнителя)\n",
      "10. В случае принятия контрольным органом в сфере закупок решения об отказе в согласовании заключения контракта с единственным поставщиком (подрядчиком, исполнителем) определение поставщика признается несостоявшимся. Заказчик вносит изменения в план-график закупок (при необходимости), осуществляет новую закупку в соответствии с настоящим Федеральным законом (при необходимости). (часть 10 введена Федеральным законом  от 27.12.2019 N 449-ФЗ)\n",
      "\n",
      "\n",
      "    Закон: 44 Федеральный Закон\n",
      "    Номер статьи: Статья 99.15.5)\n",
      "    Страницы закона: 209 - 209\n",
      "    Контекст: Статья 99. Контроль в сфере закупок\n",
      "5) получение обращения о включении информации об участнике закупки или о поставщике (подрядчике, исполнителе) в реестр недобросовестных поставщиков (подрядчиков, исполнителей). (п. 5 введен Федеральным законом  от 30.12.2020 N 539-ФЗ)\n",
      "\n",
      "\n",
      "    Закон: 44 Федеральный Закон\n",
      "    Номер статьи: Статья 93.5\n",
      "    Страницы закона: 168 - 168\n",
      "    Контекст: Статья 93. Осуществление закупки у единственного поставщика (подрядчика, исполнителя)\n",
      "5. Заключение контракта с единственным поставщиком (подрядчиком, исполнителем) в случае признания определения поставщика (подрядчика, исполнителя) несостоявшимся осуществляется в соответствии с пунктами 24  и25 части 1  настоящей статьи:\n",
      "\n",
      "\n",
      "    Закон: 44 Федеральный Закон\n",
      "    Номер статьи: Статья 93.1.16)\n",
      "    Страницы закона: 158 - 158\n",
      "    Контекст: Статья 93. Осуществление закупки у единственного поставщика (подрядчика, исполнителя)\n",
      "16) заключение контракта на оказание услуг по участию в мероприятии, проводимом для нужд нескольких заказчиков, с поставщиком (подрядчиком, исполнителем), который определен заказчиком, являющимся организатором такого мероприятия, в порядке, установленном настоящим Федеральным законом;\n",
      "\n",
      "\n",
      "    Закон: 44 Федеральный Закон\n",
      "    Номер статьи: Статья 24.11\n",
      "    Страницы закона: 40 - 40\n",
      "    Контекст: Статья 24. Способы определения поставщиков (подрядчиков, исполнителей) (в ред. Федерального закона  от 02.07.2021 N 360-ФЗ)\n",
      "11. Закрытые конкурентные способы применяются в случаях:\n",
      "\n",
      "\n",
      "    Закон: 223 Федеральный Закон\n",
      "    Номер статьи: Статья 8.5.1.7)\n",
      "    Страницы закона: 66 - 66\n",
      "    Контекст: Статья 8. Порядок вступления в силу настоящего Федерального закона\n",
      "7) определения поставщика (исполнителя, подрядчика) в соответствии с параграфами 2  и3\n",
      "главы 3  Федерального закона от 5 апреля 2013 года N 44-ФЗ \"О контрактной системе в сфере закупок товаров, работ, услуг для обеспечения государственных и муниципальных нужд\". При этом заказчики: (в ред. Федерального закона  от 02.07.2021 N 360-ФЗ)\n",
      "\n"
     ]
    }
   ],
   "source": [
    "print(\"\\n\".join(few_shot_prompts))"
   ]
  }
 ],
 "metadata": {
  "kernelspec": {
   "display_name": "rag_python_env",
   "language": "python",
   "name": "python3"
  },
  "language_info": {
   "codemirror_mode": {
    "name": "ipython",
    "version": 3
   },
   "file_extension": ".py",
   "mimetype": "text/x-python",
   "name": "python",
   "nbconvert_exporter": "python",
   "pygments_lexer": "ipython3",
   "version": "3.10.11"
  }
 },
 "nbformat": 4,
 "nbformat_minor": 2
}
